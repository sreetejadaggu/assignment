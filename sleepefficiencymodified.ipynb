{
  "nbformat": 4,
  "nbformat_minor": 0,
  "metadata": {
    "colab": {
      "provenance": [],
      "authorship_tag": "ABX9TyNRJxTL3Ku19abCtJhlQABD",
      "include_colab_link": true
    },
    "kernelspec": {
      "name": "python3",
      "display_name": "Python 3"
    },
    "language_info": {
      "name": "python"
    }
  },
  "cells": [
    {
      "cell_type": "markdown",
      "metadata": {
        "id": "view-in-github",
        "colab_type": "text"
      },
      "source": [
        "<a href=\"https://colab.research.google.com/github/sreetejadaggu/assignment/blob/main/sleepefficiencymodified.ipynb\" target=\"_parent\"><img src=\"https://colab.research.google.com/assets/colab-badge.svg\" alt=\"Open In Colab\"/></a>"
      ]
    },
    {
      "cell_type": "code",
      "execution_count": null,
      "metadata": {
        "colab": {
          "base_uri": "https://localhost:8080/"
        },
        "id": "37Yknw7NK7xG",
        "outputId": "682d64b7-3142-4b36-b03e-e01e778adfaf"
      },
      "outputs": [
        {
          "output_type": "stream",
          "name": "stdout",
          "text": [
            "      ID  Age  Gender  Sleep duration  Sleep efficiency  REM sleep percentage  \\\n",
            "0      1   65       0               6                 1                     1   \n",
            "1      2   69       1               7                 1                    24   \n",
            "2      3   40       0               8                 0                    20   \n",
            "3      4   40       0               6                 1                    28   \n",
            "4      5   57       1               8                 1                    27   \n",
            "..   ...  ...     ...             ...               ...                   ...   \n",
            "447  448   27       0               7                 1                    25   \n",
            "448  449   52       1               6                 1                    28   \n",
            "449  450   40       0               8                 0                    20   \n",
            "450  451   45       1               7                 1                     1   \n",
            "451  452    1       1               7                 1                    22   \n",
            "\n",
            "     Deep sleep percentage  Light sleep percentage  Awakenings  \\\n",
            "0                       70                      10           0   \n",
            "1                       28                      53           3   \n",
            "2                       70                      10           1   \n",
            "3                       25                      52           3   \n",
            "4                       55                       1           3   \n",
            "..                     ...                     ...         ...   \n",
            "447                     57                      21           0   \n",
            "448                     57                      21           4   \n",
            "449                     30                      48           1   \n",
            "450                     70                      10           3   \n",
            "451                     23                      54           1   \n",
            "\n",
            "     Caffeine consumption  Alcohol consumption  Smoking status  \\\n",
            "0                       0                    0               1   \n",
            "1                       0                    3               1   \n",
            "2                       0                    0               0   \n",
            "3                      50                    5               1   \n",
            "4                       0                    3               0   \n",
            "..                    ...                  ...             ...   \n",
            "447                     0                    0               0   \n",
            "448                    25                    0               0   \n",
            "449                     0                    3               1   \n",
            "450                     0                    0               0   \n",
            "451                    50                    1               0   \n",
            "\n",
            "     Exercise frequency  \n",
            "0                     3  \n",
            "1                     3  \n",
            "2                     3  \n",
            "3                     1  \n",
            "4                     3  \n",
            "..                  ...  \n",
            "447                   5  \n",
            "448                   3  \n",
            "449                   0  \n",
            "450                   3  \n",
            "451                   1  \n",
            "\n",
            "[452 rows x 13 columns]\n"
          ]
        }
      ],
      "source": [
        "import pandas as pd\n",
        "d=pd.read_csv('/content/modifiedAIML 3.csv')\n",
        "print(d)"
      ]
    },
    {
      "cell_type": "code",
      "source": [
        "df=pd.read_csv('/content/modifiedAIML 3.csv')\n",
        "print(df.isnull())\n",
        "df=df.fillna(0)"
      ],
      "metadata": {
        "colab": {
          "base_uri": "https://localhost:8080/"
        },
        "id": "B7EmbaNxLs8M",
        "outputId": "dfead85d-1cca-4707-e2ba-acea88652739"
      },
      "execution_count": null,
      "outputs": [
        {
          "output_type": "stream",
          "name": "stdout",
          "text": [
            "        ID    Age  Gender  Sleep duration  Sleep efficiency  \\\n",
            "0    False  False   False           False             False   \n",
            "1    False  False   False           False             False   \n",
            "2    False  False   False           False             False   \n",
            "3    False  False   False           False             False   \n",
            "4    False  False   False           False             False   \n",
            "..     ...    ...     ...             ...               ...   \n",
            "447  False  False   False           False             False   \n",
            "448  False  False   False           False             False   \n",
            "449  False  False   False           False             False   \n",
            "450  False  False   False           False             False   \n",
            "451  False  False   False           False             False   \n",
            "\n",
            "     REM sleep percentage  Deep sleep percentage  Light sleep percentage  \\\n",
            "0                   False                  False                   False   \n",
            "1                   False                  False                   False   \n",
            "2                   False                  False                   False   \n",
            "3                   False                  False                   False   \n",
            "4                   False                  False                   False   \n",
            "..                    ...                    ...                     ...   \n",
            "447                 False                  False                   False   \n",
            "448                 False                  False                   False   \n",
            "449                 False                  False                   False   \n",
            "450                 False                  False                   False   \n",
            "451                 False                  False                   False   \n",
            "\n",
            "     Awakenings  Caffeine consumption  Alcohol consumption  Smoking status  \\\n",
            "0         False                 False                False           False   \n",
            "1         False                 False                False           False   \n",
            "2         False                 False                False           False   \n",
            "3         False                 False                False           False   \n",
            "4         False                 False                False           False   \n",
            "..          ...                   ...                  ...             ...   \n",
            "447       False                 False                False           False   \n",
            "448       False                 False                False           False   \n",
            "449       False                 False                False           False   \n",
            "450       False                 False                False           False   \n",
            "451       False                 False                False           False   \n",
            "\n",
            "     Exercise frequency  \n",
            "0                 False  \n",
            "1                 False  \n",
            "2                 False  \n",
            "3                 False  \n",
            "4                 False  \n",
            "..                  ...  \n",
            "447               False  \n",
            "448               False  \n",
            "449               False  \n",
            "450               False  \n",
            "451               False  \n",
            "\n",
            "[452 rows x 13 columns]\n"
          ]
        }
      ]
    },
    {
      "cell_type": "code",
      "source": [
        "df.shape"
      ],
      "metadata": {
        "colab": {
          "base_uri": "https://localhost:8080/"
        },
        "id": "aDhaZp79Lyq_",
        "outputId": "a68b983d-4e5a-4105-bf19-e28777c7ac16"
      },
      "execution_count": null,
      "outputs": [
        {
          "output_type": "execute_result",
          "data": {
            "text/plain": [
              "(452, 13)"
            ]
          },
          "metadata": {},
          "execution_count": 12
        }
      ]
    },
    {
      "cell_type": "code",
      "source": [
        "y=df['Sleep efficiency']\n",
        "y"
      ],
      "metadata": {
        "colab": {
          "base_uri": "https://localhost:8080/"
        },
        "id": "2WPABhseOjoR",
        "outputId": "02749978-4b58-468e-9b8d-e59d467a16db"
      },
      "execution_count": null,
      "outputs": [
        {
          "output_type": "execute_result",
          "data": {
            "text/plain": [
              "0      1\n",
              "1      1\n",
              "2      0\n",
              "3      1\n",
              "4      1\n",
              "      ..\n",
              "447    1\n",
              "448    1\n",
              "449    0\n",
              "450    1\n",
              "451    1\n",
              "Name: Sleep efficiency, Length: 452, dtype: int64"
            ]
          },
          "metadata": {},
          "execution_count": 15
        }
      ]
    },
    {
      "cell_type": "code",
      "source": [
        "X=df[['Deep sleep percentage','REM sleep percentage','Sleep duration','Light sleep percentage','Awakenings','Caffeine consumption','Alcohol consumption']]\n",
        "X"
      ],
      "metadata": {
        "colab": {
          "base_uri": "https://localhost:8080/",
          "height": 423
        },
        "id": "c5yY_v34Oqz5",
        "outputId": "468feb97-020a-4b4f-c032-b6ad322fbae4"
      },
      "execution_count": null,
      "outputs": [
        {
          "output_type": "execute_result",
          "data": {
            "text/plain": [
              "     Deep sleep percentage  REM sleep percentage  Sleep duration  \\\n",
              "0                       70                     1               6   \n",
              "1                       28                    24               7   \n",
              "2                       70                    20               8   \n",
              "3                       25                    28               6   \n",
              "4                       55                    27               8   \n",
              "..                     ...                   ...             ...   \n",
              "447                     57                    25               7   \n",
              "448                     57                    28               6   \n",
              "449                     30                    20               8   \n",
              "450                     70                     1               7   \n",
              "451                     23                    22               7   \n",
              "\n",
              "     Light sleep percentage  Awakenings  Caffeine consumption  \\\n",
              "0                        10           0                     0   \n",
              "1                        53           3                     0   \n",
              "2                        10           1                     0   \n",
              "3                        52           3                    50   \n",
              "4                         1           3                     0   \n",
              "..                      ...         ...                   ...   \n",
              "447                      21           0                     0   \n",
              "448                      21           4                    25   \n",
              "449                      48           1                     0   \n",
              "450                      10           3                     0   \n",
              "451                      54           1                    50   \n",
              "\n",
              "     Alcohol consumption  \n",
              "0                      0  \n",
              "1                      3  \n",
              "2                      0  \n",
              "3                      5  \n",
              "4                      3  \n",
              "..                   ...  \n",
              "447                    0  \n",
              "448                    0  \n",
              "449                    3  \n",
              "450                    0  \n",
              "451                    1  \n",
              "\n",
              "[452 rows x 7 columns]"
            ],
            "text/html": [
              "\n",
              "  <div id=\"df-cae1468e-602a-429a-aa03-f9211d4a2811\">\n",
              "    <div class=\"colab-df-container\">\n",
              "      <div>\n",
              "<style scoped>\n",
              "    .dataframe tbody tr th:only-of-type {\n",
              "        vertical-align: middle;\n",
              "    }\n",
              "\n",
              "    .dataframe tbody tr th {\n",
              "        vertical-align: top;\n",
              "    }\n",
              "\n",
              "    .dataframe thead th {\n",
              "        text-align: right;\n",
              "    }\n",
              "</style>\n",
              "<table border=\"1\" class=\"dataframe\">\n",
              "  <thead>\n",
              "    <tr style=\"text-align: right;\">\n",
              "      <th></th>\n",
              "      <th>Deep sleep percentage</th>\n",
              "      <th>REM sleep percentage</th>\n",
              "      <th>Sleep duration</th>\n",
              "      <th>Light sleep percentage</th>\n",
              "      <th>Awakenings</th>\n",
              "      <th>Caffeine consumption</th>\n",
              "      <th>Alcohol consumption</th>\n",
              "    </tr>\n",
              "  </thead>\n",
              "  <tbody>\n",
              "    <tr>\n",
              "      <th>0</th>\n",
              "      <td>70</td>\n",
              "      <td>1</td>\n",
              "      <td>6</td>\n",
              "      <td>10</td>\n",
              "      <td>0</td>\n",
              "      <td>0</td>\n",
              "      <td>0</td>\n",
              "    </tr>\n",
              "    <tr>\n",
              "      <th>1</th>\n",
              "      <td>28</td>\n",
              "      <td>24</td>\n",
              "      <td>7</td>\n",
              "      <td>53</td>\n",
              "      <td>3</td>\n",
              "      <td>0</td>\n",
              "      <td>3</td>\n",
              "    </tr>\n",
              "    <tr>\n",
              "      <th>2</th>\n",
              "      <td>70</td>\n",
              "      <td>20</td>\n",
              "      <td>8</td>\n",
              "      <td>10</td>\n",
              "      <td>1</td>\n",
              "      <td>0</td>\n",
              "      <td>0</td>\n",
              "    </tr>\n",
              "    <tr>\n",
              "      <th>3</th>\n",
              "      <td>25</td>\n",
              "      <td>28</td>\n",
              "      <td>6</td>\n",
              "      <td>52</td>\n",
              "      <td>3</td>\n",
              "      <td>50</td>\n",
              "      <td>5</td>\n",
              "    </tr>\n",
              "    <tr>\n",
              "      <th>4</th>\n",
              "      <td>55</td>\n",
              "      <td>27</td>\n",
              "      <td>8</td>\n",
              "      <td>1</td>\n",
              "      <td>3</td>\n",
              "      <td>0</td>\n",
              "      <td>3</td>\n",
              "    </tr>\n",
              "    <tr>\n",
              "      <th>...</th>\n",
              "      <td>...</td>\n",
              "      <td>...</td>\n",
              "      <td>...</td>\n",
              "      <td>...</td>\n",
              "      <td>...</td>\n",
              "      <td>...</td>\n",
              "      <td>...</td>\n",
              "    </tr>\n",
              "    <tr>\n",
              "      <th>447</th>\n",
              "      <td>57</td>\n",
              "      <td>25</td>\n",
              "      <td>7</td>\n",
              "      <td>21</td>\n",
              "      <td>0</td>\n",
              "      <td>0</td>\n",
              "      <td>0</td>\n",
              "    </tr>\n",
              "    <tr>\n",
              "      <th>448</th>\n",
              "      <td>57</td>\n",
              "      <td>28</td>\n",
              "      <td>6</td>\n",
              "      <td>21</td>\n",
              "      <td>4</td>\n",
              "      <td>25</td>\n",
              "      <td>0</td>\n",
              "    </tr>\n",
              "    <tr>\n",
              "      <th>449</th>\n",
              "      <td>30</td>\n",
              "      <td>20</td>\n",
              "      <td>8</td>\n",
              "      <td>48</td>\n",
              "      <td>1</td>\n",
              "      <td>0</td>\n",
              "      <td>3</td>\n",
              "    </tr>\n",
              "    <tr>\n",
              "      <th>450</th>\n",
              "      <td>70</td>\n",
              "      <td>1</td>\n",
              "      <td>7</td>\n",
              "      <td>10</td>\n",
              "      <td>3</td>\n",
              "      <td>0</td>\n",
              "      <td>0</td>\n",
              "    </tr>\n",
              "    <tr>\n",
              "      <th>451</th>\n",
              "      <td>23</td>\n",
              "      <td>22</td>\n",
              "      <td>7</td>\n",
              "      <td>54</td>\n",
              "      <td>1</td>\n",
              "      <td>50</td>\n",
              "      <td>1</td>\n",
              "    </tr>\n",
              "  </tbody>\n",
              "</table>\n",
              "<p>452 rows × 7 columns</p>\n",
              "</div>\n",
              "      <button class=\"colab-df-convert\" onclick=\"convertToInteractive('df-cae1468e-602a-429a-aa03-f9211d4a2811')\"\n",
              "              title=\"Convert this dataframe to an interactive table.\"\n",
              "              style=\"display:none;\">\n",
              "        \n",
              "  <svg xmlns=\"http://www.w3.org/2000/svg\" height=\"24px\"viewBox=\"0 0 24 24\"\n",
              "       width=\"24px\">\n",
              "    <path d=\"M0 0h24v24H0V0z\" fill=\"none\"/>\n",
              "    <path d=\"M18.56 5.44l.94 2.06.94-2.06 2.06-.94-2.06-.94-.94-2.06-.94 2.06-2.06.94zm-11 1L8.5 8.5l.94-2.06 2.06-.94-2.06-.94L8.5 2.5l-.94 2.06-2.06.94zm10 10l.94 2.06.94-2.06 2.06-.94-2.06-.94-.94-2.06-.94 2.06-2.06.94z\"/><path d=\"M17.41 7.96l-1.37-1.37c-.4-.4-.92-.59-1.43-.59-.52 0-1.04.2-1.43.59L10.3 9.45l-7.72 7.72c-.78.78-.78 2.05 0 2.83L4 21.41c.39.39.9.59 1.41.59.51 0 1.02-.2 1.41-.59l7.78-7.78 2.81-2.81c.8-.78.8-2.07 0-2.86zM5.41 20L4 18.59l7.72-7.72 1.47 1.35L5.41 20z\"/>\n",
              "  </svg>\n",
              "      </button>\n",
              "      \n",
              "  <style>\n",
              "    .colab-df-container {\n",
              "      display:flex;\n",
              "      flex-wrap:wrap;\n",
              "      gap: 12px;\n",
              "    }\n",
              "\n",
              "    .colab-df-convert {\n",
              "      background-color: #E8F0FE;\n",
              "      border: none;\n",
              "      border-radius: 50%;\n",
              "      cursor: pointer;\n",
              "      display: none;\n",
              "      fill: #1967D2;\n",
              "      height: 32px;\n",
              "      padding: 0 0 0 0;\n",
              "      width: 32px;\n",
              "    }\n",
              "\n",
              "    .colab-df-convert:hover {\n",
              "      background-color: #E2EBFA;\n",
              "      box-shadow: 0px 1px 2px rgba(60, 64, 67, 0.3), 0px 1px 3px 1px rgba(60, 64, 67, 0.15);\n",
              "      fill: #174EA6;\n",
              "    }\n",
              "\n",
              "    [theme=dark] .colab-df-convert {\n",
              "      background-color: #3B4455;\n",
              "      fill: #D2E3FC;\n",
              "    }\n",
              "\n",
              "    [theme=dark] .colab-df-convert:hover {\n",
              "      background-color: #434B5C;\n",
              "      box-shadow: 0px 1px 3px 1px rgba(0, 0, 0, 0.15);\n",
              "      filter: drop-shadow(0px 1px 2px rgba(0, 0, 0, 0.3));\n",
              "      fill: #FFFFFF;\n",
              "    }\n",
              "  </style>\n",
              "\n",
              "      <script>\n",
              "        const buttonEl =\n",
              "          document.querySelector('#df-cae1468e-602a-429a-aa03-f9211d4a2811 button.colab-df-convert');\n",
              "        buttonEl.style.display =\n",
              "          google.colab.kernel.accessAllowed ? 'block' : 'none';\n",
              "\n",
              "        async function convertToInteractive(key) {\n",
              "          const element = document.querySelector('#df-cae1468e-602a-429a-aa03-f9211d4a2811');\n",
              "          const dataTable =\n",
              "            await google.colab.kernel.invokeFunction('convertToInteractive',\n",
              "                                                     [key], {});\n",
              "          if (!dataTable) return;\n",
              "\n",
              "          const docLinkHtml = 'Like what you see? Visit the ' +\n",
              "            '<a target=\"_blank\" href=https://colab.research.google.com/notebooks/data_table.ipynb>data table notebook</a>'\n",
              "            + ' to learn more about interactive tables.';\n",
              "          element.innerHTML = '';\n",
              "          dataTable['output_type'] = 'display_data';\n",
              "          await google.colab.output.renderOutput(dataTable, element);\n",
              "          const docLink = document.createElement('div');\n",
              "          docLink.innerHTML = docLinkHtml;\n",
              "          element.appendChild(docLink);\n",
              "        }\n",
              "      </script>\n",
              "    </div>\n",
              "  </div>\n",
              "  "
            ]
          },
          "metadata": {},
          "execution_count": 18
        }
      ]
    },
    {
      "cell_type": "code",
      "source": [
        "from sklearn.model_selection import train_test_split"
      ],
      "metadata": {
        "id": "XS6JHKmrL9Fv"
      },
      "execution_count": null,
      "outputs": []
    },
    {
      "cell_type": "code",
      "source": [
        "X_train,X_test,y_train,y_test=train_test_split(X,y,test_size=0.20,random_state=2)\n",
        "X_train.shape,X_test.shape,y_train.shape,y_test.shape\n",
        "print(X_train.shape)\n",
        "print(y_train.shape)\n",
        "print(X_test.shape)\n",
        "print(y_test.shape)"
      ],
      "metadata": {
        "colab": {
          "base_uri": "https://localhost:8080/"
        },
        "id": "6IjOwwtMOcb0",
        "outputId": "f31e41b5-9669-4dc5-8cb9-c724beb9cf4a"
      },
      "execution_count": null,
      "outputs": [
        {
          "output_type": "stream",
          "name": "stdout",
          "text": [
            "(361, 7)\n",
            "(361,)\n",
            "(91, 7)\n",
            "(91,)\n"
          ]
        }
      ]
    },
    {
      "cell_type": "code",
      "source": [
        "from sklearn.linear_model import LinearRegression\n",
        "from sklearn.metrics import mean_squared_error,mean_absolute_error"
      ],
      "metadata": {
        "id": "A5gK3JGGP_tc"
      },
      "execution_count": null,
      "outputs": []
    },
    {
      "cell_type": "code",
      "source": [
        "lr=LinearRegression()\n",
        "lr.fit(X_train,y_train)"
      ],
      "metadata": {
        "colab": {
          "base_uri": "https://localhost:8080/",
          "height": 74
        },
        "id": "8ssQumVtQMJg",
        "outputId": "fa531d6b-6783-476d-bc87-f61df3389a65"
      },
      "execution_count": null,
      "outputs": [
        {
          "output_type": "execute_result",
          "data": {
            "text/plain": [
              "LinearRegression()"
            ],
            "text/html": [
              "<style>#sk-container-id-1 {color: black;background-color: white;}#sk-container-id-1 pre{padding: 0;}#sk-container-id-1 div.sk-toggleable {background-color: white;}#sk-container-id-1 label.sk-toggleable__label {cursor: pointer;display: block;width: 100%;margin-bottom: 0;padding: 0.3em;box-sizing: border-box;text-align: center;}#sk-container-id-1 label.sk-toggleable__label-arrow:before {content: \"▸\";float: left;margin-right: 0.25em;color: #696969;}#sk-container-id-1 label.sk-toggleable__label-arrow:hover:before {color: black;}#sk-container-id-1 div.sk-estimator:hover label.sk-toggleable__label-arrow:before {color: black;}#sk-container-id-1 div.sk-toggleable__content {max-height: 0;max-width: 0;overflow: hidden;text-align: left;background-color: #f0f8ff;}#sk-container-id-1 div.sk-toggleable__content pre {margin: 0.2em;color: black;border-radius: 0.25em;background-color: #f0f8ff;}#sk-container-id-1 input.sk-toggleable__control:checked~div.sk-toggleable__content {max-height: 200px;max-width: 100%;overflow: auto;}#sk-container-id-1 input.sk-toggleable__control:checked~label.sk-toggleable__label-arrow:before {content: \"▾\";}#sk-container-id-1 div.sk-estimator input.sk-toggleable__control:checked~label.sk-toggleable__label {background-color: #d4ebff;}#sk-container-id-1 div.sk-label input.sk-toggleable__control:checked~label.sk-toggleable__label {background-color: #d4ebff;}#sk-container-id-1 input.sk-hidden--visually {border: 0;clip: rect(1px 1px 1px 1px);clip: rect(1px, 1px, 1px, 1px);height: 1px;margin: -1px;overflow: hidden;padding: 0;position: absolute;width: 1px;}#sk-container-id-1 div.sk-estimator {font-family: monospace;background-color: #f0f8ff;border: 1px dotted black;border-radius: 0.25em;box-sizing: border-box;margin-bottom: 0.5em;}#sk-container-id-1 div.sk-estimator:hover {background-color: #d4ebff;}#sk-container-id-1 div.sk-parallel-item::after {content: \"\";width: 100%;border-bottom: 1px solid gray;flex-grow: 1;}#sk-container-id-1 div.sk-label:hover label.sk-toggleable__label {background-color: #d4ebff;}#sk-container-id-1 div.sk-serial::before {content: \"\";position: absolute;border-left: 1px solid gray;box-sizing: border-box;top: 0;bottom: 0;left: 50%;z-index: 0;}#sk-container-id-1 div.sk-serial {display: flex;flex-direction: column;align-items: center;background-color: white;padding-right: 0.2em;padding-left: 0.2em;position: relative;}#sk-container-id-1 div.sk-item {position: relative;z-index: 1;}#sk-container-id-1 div.sk-parallel {display: flex;align-items: stretch;justify-content: center;background-color: white;position: relative;}#sk-container-id-1 div.sk-item::before, #sk-container-id-1 div.sk-parallel-item::before {content: \"\";position: absolute;border-left: 1px solid gray;box-sizing: border-box;top: 0;bottom: 0;left: 50%;z-index: -1;}#sk-container-id-1 div.sk-parallel-item {display: flex;flex-direction: column;z-index: 1;position: relative;background-color: white;}#sk-container-id-1 div.sk-parallel-item:first-child::after {align-self: flex-end;width: 50%;}#sk-container-id-1 div.sk-parallel-item:last-child::after {align-self: flex-start;width: 50%;}#sk-container-id-1 div.sk-parallel-item:only-child::after {width: 0;}#sk-container-id-1 div.sk-dashed-wrapped {border: 1px dashed gray;margin: 0 0.4em 0.5em 0.4em;box-sizing: border-box;padding-bottom: 0.4em;background-color: white;}#sk-container-id-1 div.sk-label label {font-family: monospace;font-weight: bold;display: inline-block;line-height: 1.2em;}#sk-container-id-1 div.sk-label-container {text-align: center;}#sk-container-id-1 div.sk-container {/* jupyter's `normalize.less` sets `[hidden] { display: none; }` but bootstrap.min.css set `[hidden] { display: none !important; }` so we also need the `!important` here to be able to override the default hidden behavior on the sphinx rendered scikit-learn.org. See: https://github.com/scikit-learn/scikit-learn/issues/21755 */display: inline-block !important;position: relative;}#sk-container-id-1 div.sk-text-repr-fallback {display: none;}</style><div id=\"sk-container-id-1\" class=\"sk-top-container\"><div class=\"sk-text-repr-fallback\"><pre>LinearRegression()</pre><b>In a Jupyter environment, please rerun this cell to show the HTML representation or trust the notebook. <br />On GitHub, the HTML representation is unable to render, please try loading this page with nbviewer.org.</b></div><div class=\"sk-container\" hidden><div class=\"sk-item\"><div class=\"sk-estimator sk-toggleable\"><input class=\"sk-toggleable__control sk-hidden--visually\" id=\"sk-estimator-id-1\" type=\"checkbox\" checked><label for=\"sk-estimator-id-1\" class=\"sk-toggleable__label sk-toggleable__label-arrow\">LinearRegression</label><div class=\"sk-toggleable__content\"><pre>LinearRegression()</pre></div></div></div></div></div>"
            ]
          },
          "metadata": {},
          "execution_count": 24
        }
      ]
    },
    {
      "cell_type": "code",
      "source": [
        "y_pred=lr.predict(X_test)\n",
        "y_pred.shape\n",
        "y_pred"
      ],
      "metadata": {
        "colab": {
          "base_uri": "https://localhost:8080/"
        },
        "id": "eEjpHUonQTiz",
        "outputId": "fc18ebf6-0afc-4b04-be06-c2fb9c406e0c"
      },
      "execution_count": null,
      "outputs": [
        {
          "output_type": "execute_result",
          "data": {
            "text/plain": [
              "array([1.49982439, 1.97141719, 1.15603532, 1.3409702 , 0.97395267,\n",
              "       1.78676392, 1.80673971, 1.03724562, 1.42395104, 0.41631903,\n",
              "       1.18637238, 1.20647519, 1.79455087, 2.18559395, 1.01387788,\n",
              "       1.24748917, 1.1279978 , 1.53226633, 2.22172111, 1.81963317,\n",
              "       2.47373585, 1.24882569, 1.61824945, 1.76785581, 1.26800663,\n",
              "       1.30377582, 2.08306511, 1.81285072, 2.02506598, 2.45871918,\n",
              "       1.04402907, 1.05288791, 1.47043408, 1.52714636, 1.43820123,\n",
              "       1.81963317, 2.18637284, 1.74954743, 1.47043408, 1.54918865,\n",
              "       1.96170737, 1.38826663, 1.31383337, 2.67482046, 2.09237352,\n",
              "       1.48941251, 0.96239482, 2.40970072, 1.50478818, 1.68295464,\n",
              "       2.27753106, 2.57526036, 1.40246198, 1.79249633, 1.15121199,\n",
              "       1.7332759 , 1.27437742, 1.91015135, 0.9652205 , 1.61747056,\n",
              "       1.69271134, 1.25221048, 1.57425739, 1.15121199, 1.35334547,\n",
              "       1.55046584, 1.24748917, 1.64669783, 1.04401505, 1.64745579,\n",
              "       0.96445093, 2.20403378, 2.9739096 , 3.08817752, 1.52094882,\n",
              "       2.00029037, 1.69482944, 0.92241349, 1.46378201, 2.0176483 ,\n",
              "       1.88540863, 1.61997864, 1.20141385, 2.88444917, 1.11127483,\n",
              "       2.71207303, 0.96239482, 0.75559179, 1.25856393, 1.13454626,\n",
              "       1.70667622])"
            ]
          },
          "metadata": {},
          "execution_count": 26
        }
      ]
    },
    {
      "cell_type": "code",
      "source": [
        "# LINEAR REGRESSION\n",
        "from sklearn.linear_model import LinearRegression\n",
        "model = LinearRegression()\n",
        "model.fit(X, y)\n",
        "model = LinearRegression().fit(X, y)\n",
        "r_sq = model.score(X, y)\n",
        "print(f\"coefficient of determination: {r_sq}\")\n",
        "\n",
        "print(f\"intercept: {model.intercept_}\")\n",
        "\n",
        "print(f\"coefficients: {model.coef_}\")"
      ],
      "metadata": {
        "colab": {
          "base_uri": "https://localhost:8080/"
        },
        "id": "Thn1ilNBQhf5",
        "outputId": "48db6e69-3882-4d56-c0c4-0d01e5d6a7e2"
      },
      "execution_count": null,
      "outputs": [
        {
          "output_type": "stream",
          "name": "stdout",
          "text": [
            "coefficient of determination: 0.031419989275848215\n",
            "intercept: 6.633631060734009\n",
            "coefficients: [-0.07432596 -0.04115364  0.08502646 -0.03713151 -0.09264646 -0.00166427\n",
            " -0.00267985]\n"
          ]
        }
      ]
    },
    {
      "cell_type": "code",
      "source": [
        "import numpy as np\n"
      ],
      "metadata": {
        "id": "7i-pmPKpQlZD"
      },
      "execution_count": null,
      "outputs": []
    },
    {
      "cell_type": "code",
      "source": [
        "from sklearn import linear_model\n",
        "from sklearn.metrics import mean_squared_error,mean_absolute_error\n",
        "reg_all=linear_model.LinearRegression()\n",
        "reg_all.fit(X_train,y_train)\n",
        "y_pred=reg_all.predict(X_test)\n",
        "mse=mean_squared_error(y_test,y_pred)\n",
        "print(\"mse:\",mse)\n",
        "mae = mean_absolute_error(y_test,y_pred)\n",
        "print(\"mae:\",mae)\n",
        "print(\"rmse:\",np.sqrt(mean_squared_error(y_test,y_pred)))"
      ],
      "metadata": {
        "colab": {
          "base_uri": "https://localhost:8080/"
        },
        "id": "BK9xgWHIRbcR",
        "outputId": "386d5cb3-b078-4a22-83cf-c8ffea1573f7"
      },
      "execution_count": null,
      "outputs": [
        {
          "output_type": "stream",
          "name": "stdout",
          "text": [
            "mse: 8.281555166577105\n",
            "mae: 1.3165076192601153\n",
            "rmse: 2.8777691301730766\n"
          ]
        }
      ]
    },
    {
      "cell_type": "code",
      "source": [
        "from sklearn.tree import DecisionTreeRegressor\n",
        "from sklearn.metrics import accuracy_score\n",
        "cls=DecisionTreeRegressor()\n",
        "cc=cls.fit(X_train,y_train)"
      ],
      "metadata": {
        "id": "JFJp2S0JRsaR"
      },
      "execution_count": null,
      "outputs": []
    },
    {
      "cell_type": "code",
      "source": [
        "from sklearn import tree\n",
        "tree.plot_tree(cc,filled=True)"
      ],
      "metadata": {
        "colab": {
          "base_uri": "https://localhost:8080/",
          "height": 1000
        },
        "id": "EzNYscwURyDe",
        "outputId": "bcc4529e-7918-4835-83aa-d0ea81e0ab26"
      },
      "execution_count": null,
      "outputs": [
        {
          "output_type": "execute_result",
          "data": {
            "text/plain": [
              "[Text(0.4825375, 0.96875, 'x[0] <= 37.5\\nsquared_error = 9.843\\nsamples = 361\\nvalue = 1.69'),\n",
              " Text(0.1424375, 0.90625, 'x[0] <= 22.5\\nsquared_error = 5.973\\nsamples = 89\\nvalue = 2.584'),\n",
              " Text(0.0528, 0.84375, 'x[6] <= 4.5\\nsquared_error = 1.678\\nsamples = 21\\nvalue = 1.19'),\n",
              " Text(0.0352, 0.78125, 'x[4] <= 1.5\\nsquared_error = 1.497\\nsamples = 18\\nvalue = 0.944'),\n",
              " Text(0.0192, 0.71875, 'x[0] <= 21.0\\nsquared_error = 2.333\\nsamples = 6\\nvalue = 2.0'),\n",
              " Text(0.0128, 0.65625, 'x[1] <= 28.5\\nsquared_error = 1.0\\nsamples = 2\\nvalue = 4.0'),\n",
              " Text(0.0064, 0.59375, 'squared_error = 0.0\\nsamples = 1\\nvalue = 5.0'),\n",
              " Text(0.0192, 0.59375, 'squared_error = 0.0\\nsamples = 1\\nvalue = 3.0'),\n",
              " Text(0.0256, 0.65625, 'squared_error = 0.0\\nsamples = 4\\nvalue = 1.0'),\n",
              " Text(0.0512, 0.71875, 'x[1] <= 24.5\\nsquared_error = 0.243\\nsamples = 12\\nvalue = 0.417'),\n",
              " Text(0.0384, 0.65625, 'x[0] <= 21.0\\nsquared_error = 0.16\\nsamples = 5\\nvalue = 0.8'),\n",
              " Text(0.032, 0.59375, 'squared_error = 0.0\\nsamples = 1\\nvalue = 0.0'),\n",
              " Text(0.0448, 0.59375, 'squared_error = 0.0\\nsamples = 4\\nvalue = 1.0'),\n",
              " Text(0.064, 0.65625, 'x[6] <= 1.5\\nsquared_error = 0.122\\nsamples = 7\\nvalue = 0.143'),\n",
              " Text(0.0576, 0.59375, 'x[4] <= 3.5\\nsquared_error = 0.25\\nsamples = 2\\nvalue = 0.5'),\n",
              " Text(0.0512, 0.53125, 'squared_error = 0.0\\nsamples = 1\\nvalue = 1.0'),\n",
              " Text(0.064, 0.53125, 'squared_error = 0.0\\nsamples = 1\\nvalue = 0.0'),\n",
              " Text(0.0704, 0.59375, 'squared_error = 0.0\\nsamples = 5\\nvalue = 0.0'),\n",
              " Text(0.0704, 0.78125, 'x[4] <= 1.5\\nsquared_error = 0.222\\nsamples = 3\\nvalue = 2.667'),\n",
              " Text(0.064, 0.71875, 'squared_error = 0.0\\nsamples = 1\\nvalue = 2.0'),\n",
              " Text(0.0768, 0.71875, 'squared_error = 0.0\\nsamples = 2\\nvalue = 3.0'),\n",
              " Text(0.232075, 0.84375, 'x[2] <= 7.5\\nsquared_error = 6.514\\nsamples = 68\\nvalue = 3.015'),\n",
              " Text(0.16135, 0.78125, 'x[6] <= 0.5\\nsquared_error = 5.732\\nsamples = 43\\nvalue = 2.581'),\n",
              " Text(0.1024, 0.71875, 'x[1] <= 24.0\\nsquared_error = 0.531\\nsamples = 7\\nvalue = 0.571'),\n",
              " Text(0.096, 0.65625, 'x[5] <= 25.0\\nsquared_error = 0.5\\nsamples = 4\\nvalue = 1.0'),\n",
              " Text(0.0832, 0.59375, 'x[4] <= 2.5\\nsquared_error = 0.25\\nsamples = 2\\nvalue = 0.5'),\n",
              " Text(0.0768, 0.53125, 'squared_error = 0.0\\nsamples = 1\\nvalue = 1.0'),\n",
              " Text(0.0896, 0.53125, 'squared_error = 0.0\\nsamples = 1\\nvalue = 0.0'),\n",
              " Text(0.1088, 0.59375, 'x[1] <= 21.0\\nsquared_error = 0.25\\nsamples = 2\\nvalue = 1.5'),\n",
              " Text(0.1024, 0.53125, 'squared_error = 0.0\\nsamples = 1\\nvalue = 2.0'),\n",
              " Text(0.1152, 0.53125, 'squared_error = 0.0\\nsamples = 1\\nvalue = 1.0'),\n",
              " Text(0.1088, 0.65625, 'squared_error = 0.0\\nsamples = 3\\nvalue = 0.0'),\n",
              " Text(0.2203, 0.71875, 'x[4] <= 3.5\\nsquared_error = 5.805\\nsamples = 36\\nvalue = 2.972'),\n",
              " Text(0.1934, 0.65625, 'x[6] <= 4.5\\nsquared_error = 5.993\\nsamples = 29\\nvalue = 3.276'),\n",
              " Text(0.1588, 0.59375, 'x[0] <= 27.5\\nsquared_error = 5.558\\nsamples = 25\\nvalue = 3.04'),\n",
              " Text(0.128, 0.53125, 'x[6] <= 3.5\\nsquared_error = 8.213\\nsamples = 13\\nvalue = 3.692'),\n",
              " Text(0.1048, 0.46875, 'x[0] <= 24.0\\nsquared_error = 7.471\\nsamples = 11\\nvalue = 4.273'),\n",
              " Text(0.0776, 0.40625, 'x[2] <= 6.5\\nsquared_error = 2.5\\nsamples = 4\\nvalue = 2.0'),\n",
              " Text(0.0712, 0.34375, 'squared_error = 0.0\\nsamples = 1\\nvalue = 4.0'),\n",
              " Text(0.084, 0.34375, 'x[1] <= 25.0\\nsquared_error = 1.556\\nsamples = 3\\nvalue = 1.333'),\n",
              " Text(0.0776, 0.28125, 'x[6] <= 2.0\\nsquared_error = 0.25\\nsamples = 2\\nvalue = 0.5'),\n",
              " Text(0.0712, 0.21875, 'squared_error = 0.0\\nsamples = 1\\nvalue = 1.0'),\n",
              " Text(0.084, 0.21875, 'squared_error = 0.0\\nsamples = 1\\nvalue = 0.0'),\n",
              " Text(0.0904, 0.28125, 'squared_error = 0.0\\nsamples = 1\\nvalue = 3.0'),\n",
              " Text(0.132, 0.40625, 'x[6] <= 2.5\\nsquared_error = 5.673\\nsamples = 7\\nvalue = 5.571'),\n",
              " Text(0.116, 0.34375, 'x[4] <= 0.5\\nsquared_error = 6.688\\nsamples = 4\\nvalue = 6.25'),\n",
              " Text(0.1032, 0.28125, 'x[5] <= 62.5\\nsquared_error = 6.25\\nsamples = 2\\nvalue = 4.5'),\n",
              " Text(0.0968, 0.21875, 'squared_error = 0.0\\nsamples = 1\\nvalue = 7.0'),\n",
              " Text(0.1096, 0.21875, 'squared_error = 0.0\\nsamples = 1\\nvalue = 2.0'),\n",
              " Text(0.1288, 0.28125, 'x[5] <= 37.5\\nsquared_error = 1.0\\nsamples = 2\\nvalue = 8.0'),\n",
              " Text(0.1224, 0.21875, 'squared_error = 0.0\\nsamples = 1\\nvalue = 7.0'),\n",
              " Text(0.1352, 0.21875, 'squared_error = 0.0\\nsamples = 1\\nvalue = 9.0'),\n",
              " Text(0.148, 0.34375, 'x[5] <= 28.5\\nsquared_error = 2.889\\nsamples = 3\\nvalue = 4.667'),\n",
              " Text(0.1416, 0.28125, 'squared_error = 0.0\\nsamples = 1\\nvalue = 3.0'),\n",
              " Text(0.1544, 0.28125, 'squared_error = 2.25\\nsamples = 2\\nvalue = 5.5'),\n",
              " Text(0.1512, 0.46875, 'x[2] <= 6.0\\nsquared_error = 0.25\\nsamples = 2\\nvalue = 0.5'),\n",
              " Text(0.1448, 0.40625, 'squared_error = 0.0\\nsamples = 1\\nvalue = 1.0'),\n",
              " Text(0.1576, 0.40625, 'squared_error = 0.0\\nsamples = 1\\nvalue = 0.0'),\n",
              " Text(0.1896, 0.53125, 'x[1] <= 10.5\\nsquared_error = 1.722\\nsamples = 12\\nvalue = 2.333'),\n",
              " Text(0.1768, 0.46875, 'x[4] <= 1.5\\nsquared_error = 0.49\\nsamples = 7\\nvalue = 3.286'),\n",
              " Text(0.1704, 0.40625, 'squared_error = 0.0\\nsamples = 2\\nvalue = 4.0'),\n",
              " Text(0.1832, 0.40625, 'x[6] <= 1.5\\nsquared_error = 0.4\\nsamples = 5\\nvalue = 3.0'),\n",
              " Text(0.1768, 0.34375, 'squared_error = 0.0\\nsamples = 1\\nvalue = 4.0'),\n",
              " Text(0.1896, 0.34375, 'x[6] <= 2.5\\nsquared_error = 0.188\\nsamples = 4\\nvalue = 2.75'),\n",
              " Text(0.1832, 0.28125, 'squared_error = 0.0\\nsamples = 3\\nvalue = 3.0'),\n",
              " Text(0.196, 0.28125, 'squared_error = 0.0\\nsamples = 1\\nvalue = 2.0'),\n",
              " Text(0.2024, 0.46875, 'x[6] <= 1.5\\nsquared_error = 0.4\\nsamples = 5\\nvalue = 1.0'),\n",
              " Text(0.196, 0.40625, 'squared_error = 0.0\\nsamples = 1\\nvalue = 0.0'),\n",
              " Text(0.2088, 0.40625, 'x[5] <= 12.5\\nsquared_error = 0.188\\nsamples = 4\\nvalue = 1.25'),\n",
              " Text(0.2024, 0.34375, 'squared_error = 0.0\\nsamples = 3\\nvalue = 1.0'),\n",
              " Text(0.2152, 0.34375, 'squared_error = 0.0\\nsamples = 1\\nvalue = 2.0'),\n",
              " Text(0.228, 0.59375, 'x[3] <= 52.5\\nsquared_error = 6.188\\nsamples = 4\\nvalue = 4.75'),\n",
              " Text(0.2216, 0.53125, 'x[4] <= 2.0\\nsquared_error = 2.25\\nsamples = 2\\nvalue = 2.5'),\n",
              " Text(0.2152, 0.46875, 'squared_error = 0.0\\nsamples = 1\\nvalue = 4.0'),\n",
              " Text(0.228, 0.46875, 'squared_error = 0.0\\nsamples = 1\\nvalue = 1.0'),\n",
              " Text(0.2344, 0.53125, 'squared_error = 0.0\\nsamples = 2\\nvalue = 7.0'),\n",
              " Text(0.2472, 0.65625, 'x[6] <= 1.5\\nsquared_error = 3.061\\nsamples = 7\\nvalue = 1.714'),\n",
              " Text(0.2408, 0.59375, 'squared_error = 0.0\\nsamples = 1\\nvalue = 6.0'),\n",
              " Text(0.2536, 0.59375, 'squared_error = 0.0\\nsamples = 6\\nvalue = 1.0'),\n",
              " Text(0.3028, 0.78125, 'x[0] <= 24.0\\nsquared_error = 6.982\\nsamples = 25\\nvalue = 3.76'),\n",
              " Text(0.2792, 0.71875, 'x[4] <= 2.5\\nsquared_error = 4.222\\nsamples = 3\\nvalue = 6.333'),\n",
              " Text(0.2728, 0.65625, 'x[2] <= 8.5\\nsquared_error = 1.0\\nsamples = 2\\nvalue = 5.0'),\n",
              " Text(0.2664, 0.59375, 'squared_error = 0.0\\nsamples = 1\\nvalue = 4.0'),\n",
              " Text(0.2792, 0.59375, 'squared_error = 0.0\\nsamples = 1\\nvalue = 6.0'),\n",
              " Text(0.2856, 0.65625, 'squared_error = 0.0\\nsamples = 1\\nvalue = 9.0'),\n",
              " Text(0.3264, 0.71875, 'x[4] <= 0.5\\nsquared_error = 6.333\\nsamples = 22\\nvalue = 3.409'),\n",
              " Text(0.2984, 0.65625, 'x[6] <= 2.5\\nsquared_error = 0.25\\nsamples = 2\\nvalue = 6.5'),\n",
              " Text(0.292, 0.59375, 'squared_error = 0.0\\nsamples = 1\\nvalue = 7.0'),\n",
              " Text(0.3048, 0.59375, 'squared_error = 0.0\\nsamples = 1\\nvalue = 6.0'),\n",
              " Text(0.3544, 0.65625, 'x[6] <= 2.5\\nsquared_error = 5.89\\nsamples = 20\\nvalue = 3.1'),\n",
              " Text(0.3176, 0.59375, 'x[3] <= 50.0\\nsquared_error = 6.916\\nsamples = 15\\nvalue = 3.533'),\n",
              " Text(0.2824, 0.53125, 'x[0] <= 32.5\\nsquared_error = 6.24\\nsamples = 10\\nvalue = 4.4'),\n",
              " Text(0.2568, 0.46875, 'x[4] <= 3.5\\nsquared_error = 3.25\\nsamples = 4\\nvalue = 3.5'),\n",
              " Text(0.244, 0.40625, 'x[6] <= 1.0\\nsquared_error = 2.25\\nsamples = 2\\nvalue = 2.5'),\n",
              " Text(0.2376, 0.34375, 'squared_error = 0.0\\nsamples = 1\\nvalue = 4.0'),\n",
              " Text(0.2504, 0.34375, 'squared_error = 0.0\\nsamples = 1\\nvalue = 1.0'),\n",
              " Text(0.2696, 0.40625, 'x[2] <= 9.0\\nsquared_error = 2.25\\nsamples = 2\\nvalue = 4.5'),\n",
              " Text(0.2632, 0.34375, 'squared_error = 0.0\\nsamples = 1\\nvalue = 6.0'),\n",
              " Text(0.276, 0.34375, 'squared_error = 0.0\\nsamples = 1\\nvalue = 3.0'),\n",
              " Text(0.308, 0.46875, 'x[4] <= 1.5\\nsquared_error = 7.333\\nsamples = 6\\nvalue = 5.0'),\n",
              " Text(0.2952, 0.40625, 'x[2] <= 8.5\\nsquared_error = 8.188\\nsamples = 4\\nvalue = 4.25'),\n",
              " Text(0.2888, 0.34375, 'x[6] <= 1.0\\nsquared_error = 9.556\\nsamples = 3\\nvalue = 3.667'),\n",
              " Text(0.2824, 0.28125, 'squared_error = 12.25\\nsamples = 2\\nvalue = 4.5'),\n",
              " Text(0.2952, 0.28125, 'squared_error = 0.0\\nsamples = 1\\nvalue = 2.0'),\n",
              " Text(0.3016, 0.34375, 'squared_error = 0.0\\nsamples = 1\\nvalue = 6.0'),\n",
              " Text(0.3208, 0.40625, 'x[5] <= 12.5\\nsquared_error = 2.25\\nsamples = 2\\nvalue = 6.5'),\n",
              " Text(0.3144, 0.34375, 'squared_error = 0.0\\nsamples = 1\\nvalue = 8.0'),\n",
              " Text(0.3272, 0.34375, 'squared_error = 0.0\\nsamples = 1\\nvalue = 5.0'),\n",
              " Text(0.3528, 0.53125, 'x[6] <= 0.5\\nsquared_error = 3.76\\nsamples = 5\\nvalue = 1.8'),\n",
              " Text(0.34, 0.46875, 'x[0] <= 26.5\\nsquared_error = 0.222\\nsamples = 3\\nvalue = 0.333'),\n",
              " Text(0.3336, 0.40625, 'squared_error = 0.0\\nsamples = 2\\nvalue = 0.0'),\n",
              " Text(0.3464, 0.40625, 'squared_error = 0.0\\nsamples = 1\\nvalue = 1.0'),\n",
              " Text(0.3656, 0.46875, 'x[5] <= 12.5\\nsquared_error = 1.0\\nsamples = 2\\nvalue = 4.0'),\n",
              " Text(0.3592, 0.40625, 'squared_error = 0.0\\nsamples = 1\\nvalue = 3.0'),\n",
              " Text(0.372, 0.40625, 'squared_error = 0.0\\nsamples = 1\\nvalue = 5.0'),\n",
              " Text(0.3912, 0.59375, 'x[0] <= 30.0\\nsquared_error = 0.56\\nsamples = 5\\nvalue = 1.8'),\n",
              " Text(0.3848, 0.53125, 'squared_error = 0.0\\nsamples = 1\\nvalue = 3.0'),\n",
              " Text(0.3976, 0.53125, 'x[2] <= 8.5\\nsquared_error = 0.25\\nsamples = 4\\nvalue = 1.5'),\n",
              " Text(0.3912, 0.46875, 'x[4] <= 1.5\\nsquared_error = 0.222\\nsamples = 3\\nvalue = 1.667'),\n",
              " Text(0.3848, 0.40625, 'squared_error = 0.0\\nsamples = 1\\nvalue = 2.0'),\n",
              " Text(0.3976, 0.40625, 'squared_error = 0.25\\nsamples = 2\\nvalue = 1.5'),\n",
              " Text(0.404, 0.46875, 'squared_error = 0.0\\nsamples = 1\\nvalue = 1.0'),\n",
              " Text(0.8226375, 0.90625, 'x[2] <= 9.5\\nsquared_error = 10.761\\nsamples = 272\\nvalue = 1.397'),\n",
              " Text(0.719175, 0.84375, 'x[0] <= 62.5\\nsquared_error = 9.724\\nsamples = 269\\nvalue = 1.335'),\n",
              " Text(0.53145, 0.78125, 'x[2] <= 6.5\\nsquared_error = 4.195\\nsamples = 164\\nvalue = 0.976'),\n",
              " Text(0.436, 0.71875, 'x[4] <= 3.5\\nsquared_error = 19.375\\nsamples = 16\\nvalue = 2.0'),\n",
              " Text(0.4232, 0.65625, 'x[3] <= 19.5\\nsquared_error = 0.13\\nsamples = 13\\nvalue = 0.846'),\n",
              " Text(0.4168, 0.59375, 'x[0] <= 59.0\\nsquared_error = 0.173\\nsamples = 9\\nvalue = 0.778'),\n",
              " Text(0.4104, 0.53125, 'squared_error = 0.0\\nsamples = 1\\nvalue = 0.0'),\n",
              " Text(0.4232, 0.53125, 'x[4] <= 0.5\\nsquared_error = 0.109\\nsamples = 8\\nvalue = 0.875'),\n",
              " Text(0.4168, 0.46875, 'squared_error = 0.25\\nsamples = 2\\nvalue = 0.5'),\n",
              " Text(0.4296, 0.46875, 'squared_error = 0.0\\nsamples = 6\\nvalue = 1.0'),\n",
              " Text(0.4296, 0.59375, 'squared_error = 0.0\\nsamples = 4\\nvalue = 1.0'),\n",
              " Text(0.4488, 0.65625, 'x[2] <= 5.5\\nsquared_error = 72.0\\nsamples = 3\\nvalue = 7.0'),\n",
              " Text(0.4424, 0.59375, 'squared_error = 0.0\\nsamples = 1\\nvalue = 1.0'),\n",
              " Text(0.4552, 0.59375, 'x[5] <= 12.5\\nsquared_error = 81.0\\nsamples = 2\\nvalue = 10.0'),\n",
              " Text(0.4488, 0.53125, 'squared_error = 0.0\\nsamples = 1\\nvalue = 19.0'),\n",
              " Text(0.4616, 0.53125, 'squared_error = 0.0\\nsamples = 1\\nvalue = 1.0'),\n",
              " Text(0.6269, 0.71875, 'x[6] <= 2.5\\nsquared_error = 2.428\\nsamples = 148\\nvalue = 0.865'),\n",
              " Text(0.5498, 0.65625, 'x[4] <= 1.5\\nsquared_error = 0.184\\nsamples = 119\\nvalue = 0.756'),\n",
              " Text(0.4964, 0.59375, 'x[1] <= 29.0\\nsquared_error = 0.125\\nsamples = 82\\nvalue = 0.854'),\n",
              " Text(0.4744, 0.53125, 'x[4] <= 0.5\\nsquared_error = 0.102\\nsamples = 78\\nvalue = 0.885'),\n",
              " Text(0.4496, 0.46875, 'x[2] <= 7.5\\nsquared_error = 0.05\\nsamples = 38\\nvalue = 0.947'),\n",
              " Text(0.4432, 0.40625, 'squared_error = 0.0\\nsamples = 28\\nvalue = 1.0'),\n",
              " Text(0.456, 0.40625, 'x[0] <= 59.0\\nsquared_error = 0.16\\nsamples = 10\\nvalue = 0.8'),\n",
              " Text(0.4496, 0.34375, 'squared_error = 0.0\\nsamples = 5\\nvalue = 1.0'),\n",
              " Text(0.4624, 0.34375, 'x[1] <= 26.0\\nsquared_error = 0.24\\nsamples = 5\\nvalue = 0.6'),\n",
              " Text(0.456, 0.28125, 'x[5] <= 12.5\\nsquared_error = 0.222\\nsamples = 3\\nvalue = 0.333'),\n",
              " Text(0.4496, 0.21875, 'squared_error = 0.25\\nsamples = 2\\nvalue = 0.5'),\n",
              " Text(0.4624, 0.21875, 'squared_error = 0.0\\nsamples = 1\\nvalue = 0.0'),\n",
              " Text(0.4688, 0.28125, 'squared_error = 0.0\\nsamples = 2\\nvalue = 1.0'),\n",
              " Text(0.4992, 0.46875, 'x[1] <= 10.5\\nsquared_error = 0.144\\nsamples = 40\\nvalue = 0.825'),\n",
              " Text(0.4816, 0.40625, 'x[6] <= 1.0\\nsquared_error = 0.222\\nsamples = 3\\nvalue = 0.333'),\n",
              " Text(0.4752, 0.34375, 'squared_error = 0.0\\nsamples = 2\\nvalue = 0.0'),\n",
              " Text(0.488, 0.34375, 'squared_error = 0.0\\nsamples = 1\\nvalue = 1.0'),\n",
              " Text(0.5168, 0.40625, 'x[1] <= 27.0\\nsquared_error = 0.117\\nsamples = 37\\nvalue = 0.865'),\n",
              " Text(0.5008, 0.34375, 'x[3] <= 15.0\\nsquared_error = 0.047\\nsamples = 20\\nvalue = 0.95'),\n",
              " Text(0.4944, 0.28125, 'squared_error = 0.0\\nsamples = 12\\nvalue = 1.0'),\n",
              " Text(0.5072, 0.28125, 'x[6] <= 0.5\\nsquared_error = 0.109\\nsamples = 8\\nvalue = 0.875'),\n",
              " Text(0.5008, 0.21875, 'x[2] <= 7.5\\nsquared_error = 0.16\\nsamples = 5\\nvalue = 0.8'),\n",
              " Text(0.4944, 0.15625, 'x[0] <= 56.0\\nsquared_error = 0.188\\nsamples = 4\\nvalue = 0.75'),\n",
              " Text(0.488, 0.09375, 'squared_error = 0.0\\nsamples = 1\\nvalue = 1.0'),\n",
              " Text(0.5008, 0.09375, 'squared_error = 0.222\\nsamples = 3\\nvalue = 0.667'),\n",
              " Text(0.5072, 0.15625, 'squared_error = 0.0\\nsamples = 1\\nvalue = 1.0'),\n",
              " Text(0.5136, 0.21875, 'squared_error = 0.0\\nsamples = 3\\nvalue = 1.0'),\n",
              " Text(0.5328, 0.34375, 'x[0] <= 56.0\\nsquared_error = 0.18\\nsamples = 17\\nvalue = 0.765'),\n",
              " Text(0.5264, 0.28125, 'squared_error = 0.0\\nsamples = 1\\nvalue = 0.0'),\n",
              " Text(0.5392, 0.28125, 'x[6] <= 0.5\\nsquared_error = 0.152\\nsamples = 16\\nvalue = 0.812'),\n",
              " Text(0.5264, 0.21875, 'x[3] <= 20.5\\nsquared_error = 0.122\\nsamples = 14\\nvalue = 0.857'),\n",
              " Text(0.52, 0.15625, 'x[3] <= 10.0\\nsquared_error = 0.083\\nsamples = 11\\nvalue = 0.909'),\n",
              " Text(0.5136, 0.09375, 'x[5] <= 28.5\\nsquared_error = 0.139\\nsamples = 6\\nvalue = 0.833'),\n",
              " Text(0.5072, 0.03125, 'squared_error = 0.0\\nsamples = 2\\nvalue = 1.0'),\n",
              " Text(0.52, 0.03125, 'squared_error = 0.188\\nsamples = 4\\nvalue = 0.75'),\n",
              " Text(0.5264, 0.09375, 'squared_error = 0.0\\nsamples = 5\\nvalue = 1.0'),\n",
              " Text(0.5328, 0.15625, 'squared_error = 0.222\\nsamples = 3\\nvalue = 0.667'),\n",
              " Text(0.552, 0.21875, 'x[3] <= 10.5\\nsquared_error = 0.25\\nsamples = 2\\nvalue = 0.5'),\n",
              " Text(0.5456, 0.15625, 'squared_error = 0.0\\nsamples = 1\\nvalue = 0.0'),\n",
              " Text(0.5584, 0.15625, 'squared_error = 0.0\\nsamples = 1\\nvalue = 1.0'),\n",
              " Text(0.5184, 0.53125, 'x[3] <= 15.0\\nsquared_error = 0.188\\nsamples = 4\\nvalue = 0.25'),\n",
              " Text(0.512, 0.46875, 'squared_error = 0.25\\nsamples = 2\\nvalue = 0.5'),\n",
              " Text(0.5248, 0.46875, 'squared_error = 0.0\\nsamples = 2\\nvalue = 0.0'),\n",
              " Text(0.6032, 0.59375, 'x[1] <= 27.5\\nsquared_error = 0.248\\nsamples = 37\\nvalue = 0.541'),\n",
              " Text(0.584, 0.53125, 'x[4] <= 2.5\\nsquared_error = 0.244\\nsamples = 26\\nvalue = 0.423'),\n",
              " Text(0.5712, 0.46875, 'x[0] <= 61.0\\nsquared_error = 0.149\\nsamples = 11\\nvalue = 0.182'),\n",
              " Text(0.5648, 0.40625, 'x[3] <= 19.5\\nsquared_error = 0.09\\nsamples = 10\\nvalue = 0.1'),\n",
              " Text(0.5584, 0.34375, 'squared_error = 0.0\\nsamples = 8\\nvalue = 0.0'),\n",
              " Text(0.5712, 0.34375, 'squared_error = 0.25\\nsamples = 2\\nvalue = 0.5'),\n",
              " Text(0.5776, 0.40625, 'squared_error = 0.0\\nsamples = 1\\nvalue = 1.0'),\n",
              " Text(0.5968, 0.46875, 'x[5] <= 12.5\\nsquared_error = 0.24\\nsamples = 15\\nvalue = 0.6'),\n",
              " Text(0.5904, 0.40625, 'x[2] <= 7.5\\nsquared_error = 0.25\\nsamples = 12\\nvalue = 0.5'),\n",
              " Text(0.584, 0.34375, 'x[6] <= 1.0\\nsquared_error = 0.24\\nsamples = 10\\nvalue = 0.6'),\n",
              " Text(0.5776, 0.28125, 'x[0] <= 56.0\\nsquared_error = 0.222\\nsamples = 9\\nvalue = 0.667'),\n",
              " Text(0.5712, 0.21875, 'squared_error = 0.0\\nsamples = 1\\nvalue = 1.0'),\n",
              " Text(0.584, 0.21875, 'x[4] <= 3.5\\nsquared_error = 0.234\\nsamples = 8\\nvalue = 0.625'),\n",
              " Text(0.5712, 0.15625, 'x[3] <= 19.5\\nsquared_error = 0.188\\nsamples = 4\\nvalue = 0.75'),\n",
              " Text(0.5648, 0.09375, 'squared_error = 0.0\\nsamples = 2\\nvalue = 1.0'),\n",
              " Text(0.5776, 0.09375, 'squared_error = 0.25\\nsamples = 2\\nvalue = 0.5'),\n",
              " Text(0.5968, 0.15625, 'x[1] <= 23.0\\nsquared_error = 0.25\\nsamples = 4\\nvalue = 0.5'),\n",
              " Text(0.5904, 0.09375, 'squared_error = 0.222\\nsamples = 3\\nvalue = 0.667'),\n",
              " Text(0.6032, 0.09375, 'squared_error = 0.0\\nsamples = 1\\nvalue = 0.0'),\n",
              " Text(0.5904, 0.28125, 'squared_error = 0.0\\nsamples = 1\\nvalue = 0.0'),\n",
              " Text(0.5968, 0.34375, 'squared_error = 0.0\\nsamples = 2\\nvalue = 0.0'),\n",
              " Text(0.6032, 0.40625, 'squared_error = 0.0\\nsamples = 3\\nvalue = 1.0'),\n",
              " Text(0.6224, 0.53125, 'x[5] <= 37.5\\nsquared_error = 0.149\\nsamples = 11\\nvalue = 0.818'),\n",
              " Text(0.616, 0.46875, 'squared_error = 0.0\\nsamples = 3\\nvalue = 1.0'),\n",
              " Text(0.6288, 0.46875, 'x[2] <= 8.5\\nsquared_error = 0.188\\nsamples = 8\\nvalue = 0.75'),\n",
              " Text(0.6224, 0.40625, 'x[2] <= 7.5\\nsquared_error = 0.204\\nsamples = 7\\nvalue = 0.714'),\n",
              " Text(0.6096, 0.34375, 'x[4] <= 2.5\\nsquared_error = 0.16\\nsamples = 5\\nvalue = 0.8'),\n",
              " Text(0.6032, 0.28125, 'squared_error = 0.222\\nsamples = 3\\nvalue = 0.667'),\n",
              " Text(0.616, 0.28125, 'squared_error = 0.0\\nsamples = 2\\nvalue = 1.0'),\n",
              " Text(0.6352, 0.34375, 'x[4] <= 3.5\\nsquared_error = 0.25\\nsamples = 2\\nvalue = 0.5'),\n",
              " Text(0.6288, 0.28125, 'squared_error = 0.0\\nsamples = 1\\nvalue = 1.0'),\n",
              " Text(0.6416, 0.28125, 'squared_error = 0.0\\nsamples = 1\\nvalue = 0.0'),\n",
              " Text(0.6352, 0.40625, 'squared_error = 0.0\\nsamples = 1\\nvalue = 1.0'),\n",
              " Text(0.704, 0.65625, 'x[2] <= 7.5\\nsquared_error = 11.386\\nsamples = 29\\nvalue = 1.31'),\n",
              " Text(0.6832, 0.59375, 'x[5] <= 25.0\\nsquared_error = 0.244\\nsamples = 19\\nvalue = 0.579'),\n",
              " Text(0.6768, 0.53125, 'x[3] <= 19.5\\nsquared_error = 0.249\\nsamples = 17\\nvalue = 0.529'),\n",
              " Text(0.6608, 0.46875, 'x[4] <= 3.5\\nsquared_error = 0.222\\nsamples = 6\\nvalue = 0.333'),\n",
              " Text(0.6544, 0.40625, 'x[1] <= 26.5\\nsquared_error = 0.16\\nsamples = 5\\nvalue = 0.2'),\n",
              " Text(0.648, 0.34375, 'squared_error = 0.0\\nsamples = 2\\nvalue = 0.0'),\n",
              " Text(0.6608, 0.34375, 'x[4] <= 0.5\\nsquared_error = 0.222\\nsamples = 3\\nvalue = 0.333'),\n",
              " Text(0.6544, 0.28125, 'squared_error = 0.25\\nsamples = 2\\nvalue = 0.5'),\n",
              " Text(0.6672, 0.28125, 'squared_error = 0.0\\nsamples = 1\\nvalue = 0.0'),\n",
              " Text(0.6672, 0.40625, 'squared_error = 0.0\\nsamples = 1\\nvalue = 1.0'),\n",
              " Text(0.6928, 0.46875, 'x[3] <= 32.5\\nsquared_error = 0.231\\nsamples = 11\\nvalue = 0.636'),\n",
              " Text(0.6864, 0.40625, 'x[1] <= 21.0\\nsquared_error = 0.21\\nsamples = 10\\nvalue = 0.7'),\n",
              " Text(0.68, 0.34375, 'squared_error = 0.0\\nsamples = 3\\nvalue = 1.0'),\n",
              " Text(0.6928, 0.34375, 'x[0] <= 56.0\\nsquared_error = 0.245\\nsamples = 7\\nvalue = 0.571'),\n",
              " Text(0.68, 0.28125, 'x[4] <= 2.5\\nsquared_error = 0.25\\nsamples = 4\\nvalue = 0.5'),\n",
              " Text(0.6736, 0.21875, 'squared_error = 0.222\\nsamples = 3\\nvalue = 0.667'),\n",
              " Text(0.6864, 0.21875, 'squared_error = 0.0\\nsamples = 1\\nvalue = 0.0'),\n",
              " Text(0.7056, 0.28125, 'x[4] <= 2.5\\nsquared_error = 0.222\\nsamples = 3\\nvalue = 0.667'),\n",
              " Text(0.6992, 0.21875, 'squared_error = 0.0\\nsamples = 1\\nvalue = 0.0'),\n",
              " Text(0.712, 0.21875, 'squared_error = 0.0\\nsamples = 2\\nvalue = 1.0'),\n",
              " Text(0.6992, 0.40625, 'squared_error = 0.0\\nsamples = 1\\nvalue = 0.0'),\n",
              " Text(0.6896, 0.53125, 'squared_error = 0.0\\nsamples = 2\\nvalue = 1.0'),\n",
              " Text(0.7248, 0.59375, 'x[4] <= 0.5\\nsquared_error = 29.61\\nsamples = 10\\nvalue = 2.7'),\n",
              " Text(0.712, 0.53125, 'x[3] <= 10.5\\nsquared_error = 0.188\\nsamples = 4\\nvalue = 0.75'),\n",
              " Text(0.7056, 0.46875, 'squared_error = 0.222\\nsamples = 3\\nvalue = 0.667'),\n",
              " Text(0.7184, 0.46875, 'squared_error = 0.0\\nsamples = 1\\nvalue = 1.0'),\n",
              " Text(0.7376, 0.53125, 'x[4] <= 1.5\\nsquared_error = 45.0\\nsamples = 6\\nvalue = 4.0'),\n",
              " Text(0.7312, 0.46875, 'x[2] <= 8.5\\nsquared_error = 72.0\\nsamples = 3\\nvalue = 7.0'),\n",
              " Text(0.7248, 0.40625, 'squared_error = 0.0\\nsamples = 1\\nvalue = 19.0'),\n",
              " Text(0.7376, 0.40625, 'squared_error = 0.0\\nsamples = 2\\nvalue = 1.0'),\n",
              " Text(0.744, 0.46875, 'squared_error = 0.0\\nsamples = 3\\nvalue = 1.0'),\n",
              " Text(0.9069, 0.78125, 'x[2] <= 7.5\\nsquared_error = 17.846\\nsamples = 105\\nvalue = 1.895'),\n",
              " Text(0.8682, 0.71875, 'x[1] <= 21.0\\nsquared_error = 25.937\\nsamples = 58\\nvalue = 2.448'),\n",
              " Text(0.8452, 0.65625, 'x[5] <= 62.5\\nsquared_error = 32.543\\nsamples = 45\\nvalue = 2.889'),\n",
              " Text(0.8184, 0.59375, 'x[4] <= 3.5\\nsquared_error = 23.473\\nsamples = 39\\nvalue = 2.256'),\n",
              " Text(0.784, 0.53125, 'x[2] <= 6.5\\nsquared_error = 17.397\\nsamples = 36\\nvalue = 1.861'),\n",
              " Text(0.7568, 0.46875, 'x[0] <= 67.5\\nsquared_error = 45.0\\nsamples = 6\\nvalue = 4.0'),\n",
              " Text(0.7504, 0.40625, 'x[6] <= 0.5\\nsquared_error = 81.0\\nsamples = 2\\nvalue = 10.0'),\n",
              " Text(0.744, 0.34375, 'squared_error = 0.0\\nsamples = 1\\nvalue = 1.0'),\n",
              " Text(0.7568, 0.34375, 'squared_error = 0.0\\nsamples = 1\\nvalue = 19.0'),\n",
              " Text(0.7632, 0.40625, 'squared_error = 0.0\\nsamples = 4\\nvalue = 1.0'),\n",
              " Text(0.8112, 0.46875, 'x[1] <= 10.5\\nsquared_error = 10.779\\nsamples = 30\\nvalue = 1.433'),\n",
              " Text(0.7824, 0.40625, 'x[0] <= 67.5\\nsquared_error = 23.562\\nsamples = 13\\nvalue = 2.231'),\n",
              " Text(0.7696, 0.34375, 'x[6] <= 0.5\\nsquared_error = 63.188\\nsamples = 4\\nvalue = 5.25'),\n",
              " Text(0.7632, 0.28125, 'squared_error = 90.25\\nsamples = 2\\nvalue = 9.5'),\n",
              " Text(0.776, 0.28125, 'squared_error = 0.0\\nsamples = 2\\nvalue = 1.0'),\n",
              " Text(0.7952, 0.34375, 'x[4] <= 1.5\\nsquared_error = 0.099\\nsamples = 9\\nvalue = 0.889'),\n",
              " Text(0.7888, 0.28125, 'squared_error = 0.0\\nsamples = 6\\nvalue = 1.0'),\n",
              " Text(0.8016, 0.28125, 'x[6] <= 1.5\\nsquared_error = 0.222\\nsamples = 3\\nvalue = 0.667'),\n",
              " Text(0.7952, 0.21875, 'squared_error = 0.0\\nsamples = 2\\nvalue = 1.0'),\n",
              " Text(0.808, 0.21875, 'squared_error = 0.0\\nsamples = 1\\nvalue = 0.0'),\n",
              " Text(0.84, 0.40625, 'x[5] <= 37.5\\nsquared_error = 0.145\\nsamples = 17\\nvalue = 0.824'),\n",
              " Text(0.8208, 0.34375, 'x[5] <= 12.5\\nsquared_error = 0.071\\nsamples = 13\\nvalue = 0.923'),\n",
              " Text(0.8144, 0.28125, 'squared_error = 0.0\\nsamples = 6\\nvalue = 1.0'),\n",
              " Text(0.8272, 0.28125, 'x[4] <= 0.5\\nsquared_error = 0.122\\nsamples = 7\\nvalue = 0.857'),\n",
              " Text(0.8208, 0.21875, 'squared_error = 0.0\\nsamples = 3\\nvalue = 1.0'),\n",
              " Text(0.8336, 0.21875, 'x[4] <= 1.5\\nsquared_error = 0.188\\nsamples = 4\\nvalue = 0.75'),\n",
              " Text(0.8272, 0.15625, 'x[6] <= 1.5\\nsquared_error = 0.25\\nsamples = 2\\nvalue = 0.5'),\n",
              " Text(0.8208, 0.09375, 'squared_error = 0.0\\nsamples = 1\\nvalue = 0.0'),\n",
              " Text(0.8336, 0.09375, 'squared_error = 0.0\\nsamples = 1\\nvalue = 1.0'),\n",
              " Text(0.84, 0.15625, 'squared_error = 0.0\\nsamples = 2\\nvalue = 1.0'),\n",
              " Text(0.8592, 0.34375, 'x[4] <= 0.5\\nsquared_error = 0.25\\nsamples = 4\\nvalue = 0.5'),\n",
              " Text(0.8528, 0.28125, 'squared_error = 0.0\\nsamples = 1\\nvalue = 0.0'),\n",
              " Text(0.8656, 0.28125, 'x[6] <= 2.5\\nsquared_error = 0.222\\nsamples = 3\\nvalue = 0.667'),\n",
              " Text(0.8592, 0.21875, 'x[4] <= 2.0\\nsquared_error = 0.25\\nsamples = 2\\nvalue = 0.5'),\n",
              " Text(0.8528, 0.15625, 'squared_error = 0.0\\nsamples = 1\\nvalue = 1.0'),\n",
              " Text(0.8656, 0.15625, 'squared_error = 0.0\\nsamples = 1\\nvalue = 0.0'),\n",
              " Text(0.872, 0.21875, 'squared_error = 0.0\\nsamples = 1\\nvalue = 1.0'),\n",
              " Text(0.8528, 0.53125, 'x[0] <= 67.5\\nsquared_error = 72.0\\nsamples = 3\\nvalue = 7.0'),\n",
              " Text(0.8464, 0.46875, 'squared_error = 0.0\\nsamples = 1\\nvalue = 1.0'),\n",
              " Text(0.8592, 0.46875, 'x[2] <= 6.5\\nsquared_error = 81.0\\nsamples = 2\\nvalue = 10.0'),\n",
              " Text(0.8528, 0.40625, 'squared_error = 0.0\\nsamples = 1\\nvalue = 1.0'),\n",
              " Text(0.8656, 0.40625, 'squared_error = 0.0\\nsamples = 1\\nvalue = 19.0'),\n",
              " Text(0.872, 0.59375, 'x[6] <= 0.5\\nsquared_error = 72.0\\nsamples = 6\\nvalue = 7.0'),\n",
              " Text(0.8656, 0.53125, 'squared_error = 0.0\\nsamples = 4\\nvalue = 1.0'),\n",
              " Text(0.8784, 0.53125, 'squared_error = 0.0\\nsamples = 2\\nvalue = 19.0'),\n",
              " Text(0.8912, 0.65625, 'x[4] <= 2.5\\nsquared_error = 0.071\\nsamples = 13\\nvalue = 0.923'),\n",
              " Text(0.8848, 0.59375, 'squared_error = 0.0\\nsamples = 12\\nvalue = 1.0'),\n",
              " Text(0.8976, 0.59375, 'squared_error = 0.0\\nsamples = 1\\nvalue = 0.0'),\n",
              " Text(0.9456, 0.71875, 'x[1] <= 25.5\\nsquared_error = 7.019\\nsamples = 47\\nvalue = 1.213'),\n",
              " Text(0.9168, 0.65625, 'x[1] <= 23.5\\nsquared_error = 0.157\\nsamples = 36\\nvalue = 0.806'),\n",
              " Text(0.9104, 0.59375, 'x[4] <= 3.5\\nsquared_error = 0.125\\nsamples = 34\\nvalue = 0.853'),\n",
              " Text(0.8912, 0.53125, 'x[5] <= 37.5\\nsquared_error = 0.036\\nsamples = 27\\nvalue = 0.963'),\n",
              " Text(0.8848, 0.46875, 'squared_error = 0.0\\nsamples = 21\\nvalue = 1.0'),\n",
              " Text(0.8976, 0.46875, 'x[6] <= 0.5\\nsquared_error = 0.139\\nsamples = 6\\nvalue = 0.833'),\n",
              " Text(0.8912, 0.40625, 'x[4] <= 1.5\\nsquared_error = 0.25\\nsamples = 2\\nvalue = 0.5'),\n",
              " Text(0.8848, 0.34375, 'squared_error = 0.0\\nsamples = 1\\nvalue = 0.0'),\n",
              " Text(0.8976, 0.34375, 'squared_error = 0.0\\nsamples = 1\\nvalue = 1.0'),\n",
              " Text(0.904, 0.40625, 'squared_error = 0.0\\nsamples = 4\\nvalue = 1.0'),\n",
              " Text(0.9296, 0.53125, 'x[3] <= 5.5\\nsquared_error = 0.245\\nsamples = 7\\nvalue = 0.429'),\n",
              " Text(0.9232, 0.46875, 'x[5] <= 50.0\\nsquared_error = 0.222\\nsamples = 6\\nvalue = 0.333'),\n",
              " Text(0.9168, 0.40625, 'x[5] <= 12.5\\nsquared_error = 0.16\\nsamples = 5\\nvalue = 0.2'),\n",
              " Text(0.9104, 0.34375, 'squared_error = 0.0\\nsamples = 2\\nvalue = 0.0'),\n",
              " Text(0.9232, 0.34375, 'x[6] <= 0.5\\nsquared_error = 0.222\\nsamples = 3\\nvalue = 0.333'),\n",
              " Text(0.9168, 0.28125, 'squared_error = 0.0\\nsamples = 1\\nvalue = 0.0'),\n",
              " Text(0.9296, 0.28125, 'squared_error = 0.25\\nsamples = 2\\nvalue = 0.5'),\n",
              " Text(0.9296, 0.40625, 'squared_error = 0.0\\nsamples = 1\\nvalue = 1.0'),\n",
              " Text(0.936, 0.46875, 'squared_error = 0.0\\nsamples = 1\\nvalue = 1.0'),\n",
              " Text(0.9232, 0.59375, 'squared_error = 0.0\\nsamples = 2\\nvalue = 0.0'),\n",
              " Text(0.9744, 0.65625, 'x[5] <= 12.5\\nsquared_error = 27.157\\nsamples = 11\\nvalue = 2.545'),\n",
              " Text(0.9616, 0.59375, 'x[4] <= 2.0\\nsquared_error = 51.84\\nsamples = 5\\nvalue = 4.6'),\n",
              " Text(0.9552, 0.53125, 'x[4] <= 0.5\\nsquared_error = 81.0\\nsamples = 2\\nvalue = 10.0'),\n",
              " Text(0.9488, 0.46875, 'squared_error = 0.0\\nsamples = 1\\nvalue = 1.0'),\n",
              " Text(0.9616, 0.46875, 'squared_error = 0.0\\nsamples = 1\\nvalue = 19.0'),\n",
              " Text(0.968, 0.53125, 'squared_error = 0.0\\nsamples = 3\\nvalue = 1.0'),\n",
              " Text(0.9872, 0.59375, 'x[4] <= 2.5\\nsquared_error = 0.139\\nsamples = 6\\nvalue = 0.833'),\n",
              " Text(0.9808, 0.53125, 'squared_error = 0.0\\nsamples = 5\\nvalue = 1.0'),\n",
              " Text(0.9936, 0.53125, 'squared_error = 0.0\\nsamples = 1\\nvalue = 0.0'),\n",
              " Text(0.9261, 0.84375, 'x[3] <= 10.0\\nsquared_error = 72.0\\nsamples = 3\\nvalue = 7.0'),\n",
              " Text(0.9197, 0.78125, 'squared_error = 0.0\\nsamples = 2\\nvalue = 1.0'),\n",
              " Text(0.9325, 0.78125, 'squared_error = 0.0\\nsamples = 1\\nvalue = 19.0')]"
            ]
          },
          "metadata": {},
          "execution_count": 34
        },
        {
          "output_type": "display_data",
          "data": {
            "text/plain": [
              "<Figure size 640x480 with 1 Axes>"
            ],
            "image/png": "[encoded data removed]"
          },
          "metadata": {}
        }
      ]
    },
    {
      "cell_type": "code",
      "source": [
        "cl=cc.fit(X_train,y_train.values.ravel())"
      ],
      "metadata": {
        "id": "TNorMUJbRQNK"
      },
      "execution_count": null,
      "outputs": []
    },
    {
      "cell_type": "code",
      "source": [
        "yp=cl.predict(X_test)\n",
        "print(yp)"
      ],
      "metadata": {
        "colab": {
          "base_uri": "https://localhost:8080/"
        },
        "id": "tlb-WMv0R_pd",
        "outputId": "2227e230-cbfc-4bea-c246-792661a3e7b4"
      },
      "execution_count": null,
      "outputs": [
        {
          "output_type": "stream",
          "name": "stdout",
          "text": [
            "[ 1.          1.          1.          0.          0.5         1.\n",
            "  1.          1.          1.          1.          1.          0.\n",
            "  1.          2.          1.          0.75        0.          1.\n",
            "  0.          0.66666667  3.          1.          1.          3.\n",
            "  1.          1.          9.5         1.          3.          5.\n",
            "  1.          1.          1.          1.          0.          0.66666667\n",
            "  1.          1.          1.          1.          0.         19.\n",
            "  1.          3.          1.          1.         19.          4.\n",
            "  1.          1.          1.          0.          1.          0.5\n",
            "  1.          0.          0.          1.          1.          1.\n",
            "  1.          1.          1.          1.          1.          0.\n",
            "  0.75        1.          1.          0.          1.          1.\n",
            "  1.          3.         19.          1.         19.          0.\n",
            "  1.          0.          2.          1.          0.          4.\n",
            "  1.          0.         19.          1.          0.          1.\n",
            "  0.        ]\n"
          ]
        }
      ]
    },
    {
      "cell_type": "code",
      "source": [
        "import numpy as np\n",
        "from sklearn.metrics import mean_squared_error,r2_score,mean_absolute_error \n",
        "print(mean_squared_error(y_test,yp ))\n",
        "print(mean_absolute_error(y_test,yp ))\n",
        "print(np.sqrt(mean_squared_error(y_test,yp)))"
      ],
      "metadata": {
        "colab": {
          "base_uri": "https://localhost:8080/"
        },
        "id": "doYAHGEGSH3M",
        "outputId": "4528a573-b771-4d70-88ce-0f35f2d0fb31"
      },
      "execution_count": null,
      "outputs": [
        {
          "output_type": "stream",
          "name": "stdout",
          "text": [
            "28.220848595848594\n",
            "2.3369963369963367\n",
            "5.3123298651202555\n"
          ]
        }
      ]
    },
    {
      "cell_type": "code",
      "source": [
        "from sklearn import svm\n",
        "from sklearn.metrics import accuracy_score\n",
        "ca=svm.SVR(kernel='linear')"
      ],
      "metadata": {
        "id": "wZIaMA8LSPgP"
      },
      "execution_count": null,
      "outputs": []
    },
    {
      "cell_type": "code",
      "source": [
        "ck=ca.fit(X_train,y_train.values.ravel())"
      ],
      "metadata": {
        "id": "gcq4IFl8SUe2"
      },
      "execution_count": null,
      "outputs": []
    },
    {
      "cell_type": "code",
      "source": [
        "yp=ck.predict(X_test)\n",
        "print(yp)"
      ],
      "metadata": {
        "colab": {
          "base_uri": "https://localhost:8080/"
        },
        "id": "YaRvehbASbHo",
        "outputId": "75c862d5-cb9a-4e81-9f91-3e1dcf320136"
      },
      "execution_count": null,
      "outputs": [
        {
          "output_type": "stream",
          "name": "stdout",
          "text": [
            "[1.00709967 0.93754369 0.97794204 0.88471629 0.91137461 1.06979473\n",
            " 0.98464868 0.95490347 1.00529771 0.9347501  0.89950077 0.86376786\n",
            " 1.05096069 1.16613932 0.96730199 0.89962543 0.86734383 0.959753\n",
            " 1.1327206  0.9764419  1.17283922 0.99574414 0.95712469 1.11325536\n",
            " 0.96541903 0.88849258 0.98307807 1.00657412 1.1224512  1.15764089\n",
            " 0.95563637 0.850176   0.94177695 1.02459555 0.92082143 0.9764419\n",
            " 1.04167705 1.07756353 0.94177695 0.94153214 1.11265399 1.01503313\n",
            " 0.86016458 1.16963158 1.10583833 0.95378582 0.88971811 1.13670118\n",
            " 0.92768382 1.12499908 1.09951084 1.12420012 1.00698386 0.95189019\n",
            " 0.9374993  0.96873629 0.93215185 1.03129884 0.93264062 1.08158696\n",
            " 1.08322401 0.94429248 0.99156208 0.9374993  0.9740995  0.95482936\n",
            " 0.89962543 1.00857822 0.85064689 0.96830128 0.91994784 1.07569795\n",
            " 1.2202721  1.21489231 0.93239998 1.08052103 1.03228258 0.82149169\n",
            " 0.90505474 1.09538743 1.10173312 0.96709721 1.01285459 1.22744535\n",
            " 0.9636324  1.1277568  0.88971811 0.87482685 0.88065522 0.97962819\n",
            " 0.95145518]\n"
          ]
        }
      ]
    },
    {
      "cell_type": "code",
      "source": [
        "import numpy as np\n",
        "from sklearn.metrics import mean_squared_error,r2_score,mean_absolute_error \n",
        "print(mean_squared_error(y_test,yp ))\n",
        "print(mean_absolute_error(y_test,yp ))\n",
        "print(np.sqrt(mean_squared_error(y_test,yp)))"
      ],
      "metadata": {
        "colab": {
          "base_uri": "https://localhost:8080/"
        },
        "id": "rSgHLKaKSgnt",
        "outputId": "1fbef611-eba7-4e84-af6a-ae5b2bc340e4"
      },
      "execution_count": null,
      "outputs": [
        {
          "output_type": "stream",
          "name": "stdout",
          "text": [
            "8.442156408521662\n",
            "0.9499309306210899\n",
            "2.9055389187759406\n"
          ]
        }
      ]
    },
    {
      "cell_type": "code",
      "source": [
        "from sklearn.neighbors import KNeighborsRegressor\n",
        "from sklearn.metrics import accuracy_score\n",
        "\n",
        "from sklearn.neighbors import KNeighborsRegressor\n",
        "from sklearn.metrics import accuracy_score \n",
        "kk=KNeighborsRegressor() \n",
        "kl=kk.fit(X_train, y_train.values.ravel())"
      ],
      "metadata": {
        "id": "mgO22G8vSoXL"
      },
      "execution_count": null,
      "outputs": []
    },
    {
      "cell_type": "code",
      "source": [
        "yp=kl.predict(X_test)\n",
        "print(yp)\n",
        "print(y_test)"
      ],
      "metadata": {
        "colab": {
          "base_uri": "https://localhost:8080/"
        },
        "id": "uOf10_4fSrDU",
        "outputId": "59851dce-5d87-49ec-da9e-ab5c3199dbb5"
      },
      "execution_count": null,
      "outputs": [
        {
          "output_type": "stream",
          "name": "stdout",
          "text": [
            "[0.6 0.6 0.8 4.4 0.8 2.6 1.  1.  1.  1.  4.4 0.6 1.  2.2 1.  0.8 0.8 4.6\n",
            " 3.  4.2 2.2 1.  4.6 2.6 0.6 0.6 1.  1.  4.4 1.8 0.6 0.8 1.  1.  0.8 4.2\n",
            " 1.  2.8 1.  4.2 1.2 4.2 0.2 3.  2.2 0.8 4.4 3.2 1.  2.6 0.6 1.6 0.6 0.8\n",
            " 1.  1.  4.2 1.  0.8 2.2 3.2 0.6 0.8 1.  1.  0.8 0.8 1.  0.6 0.6 1.  1.2\n",
            " 1.8 1.8 4.6 0.8 1.  0.6 0.8 1.  3.2 1.  0.6 2.6 0.8 1.2 4.4 0.8 0.4 1.\n",
            " 0.8]\n",
            "376    1\n",
            "303    1\n",
            "269    0\n",
            "142    0\n",
            "253    1\n",
            "      ..\n",
            "232    1\n",
            "154    0\n",
            "178    1\n",
            "398    1\n",
            "277    1\n",
            "Name: Sleep efficiency, Length: 91, dtype: int64\n"
          ]
        }
      ]
    },
    {
      "cell_type": "code",
      "source": [
        "import numpy as np\n",
        "from sklearn.metrics import mean_squared_error,r2_score,mean_absolute_error \n",
        "print(mean_squared_error(y_test,yp ))\n",
        "print(mean_absolute_error(y_test,yp ))\n",
        "print(np.sqrt(mean_squared_error(y_test,yp)))"
      ],
      "metadata": {
        "colab": {
          "base_uri": "https://localhost:8080/"
        },
        "id": "PVJ9QRXLSvud",
        "outputId": "98c3a1a5-3cd9-41a6-9153-f53d70ba5199"
      },
      "execution_count": null,
      "outputs": [
        {
          "output_type": "stream",
          "name": "stdout",
          "text": [
            "8.90989010989011\n",
            "1.4857142857142853\n",
            "2.98494390397711\n"
          ]
        }
      ]
    },
    {
      "cell_type": "code",
      "source": [
        "from sklearn.ensemble import RandomForestRegressor\n",
        "rfc = RandomForestRegressor()"
      ],
      "metadata": {
        "id": "7JPTBKHzS5LF"
      },
      "execution_count": null,
      "outputs": []
    },
    {
      "cell_type": "code",
      "source": [
        "rr=rfc.fit(X_train,y_train.values.ravel())\n",
        "yp=rr.predict(X_test)\n",
        "print(yp)"
      ],
      "metadata": {
        "colab": {
          "base_uri": "https://localhost:8080/"
        },
        "id": "wuauLl7IS7Zx",
        "outputId": "e29945b5-f05d-4bd0-a7f7-a1f80ce1e2fb"
      },
      "execution_count": null,
      "outputs": [
        {
          "output_type": "stream",
          "name": "stdout",
          "text": [
            "[ 1.13633333  9.5         0.94833333  0.46        0.7415      1.73\n",
            "  0.98        0.96121429  0.90616667  0.815       3.51        0.59\n",
            "  0.93        2.41166667  0.98666667  0.79070238  0.59666667  0.98\n",
            "  1.73        0.68659524  3.          0.94083333  1.49        3.18\n",
            "  0.78333333  1.606       2.7935      1.          3.27333333  2.27\n",
            "  0.655       0.9375      0.84        1.315       1.449       0.68659524\n",
            "  1.          1.8         0.84        7.145       1.22        2.34\n",
            "  0.66333333  3.73        1.38        2.03       11.13        3.68333333\n",
            "  1.60033333  2.0625      0.95        1.925       0.90916667  0.58466667\n",
            "  1.18        0.43666667  2.34433333  1.          0.92        2.89066667\n",
            "  3.144       3.5         0.92411111  1.18        0.99        0.89166667\n",
            "  0.79070238  1.0475      1.65733333  0.41666667  1.          0.79\n",
            "  2.1225      1.71733333 10.84666667  0.91        6.13        0.43\n",
            "  0.99        1.29        1.905       0.98        0.469       3.09\n",
            "  0.817       1.49       11.13        0.71166667  0.73        1.\n",
            "  0.51666667]\n"
          ]
        }
      ]
    },
    {
      "cell_type": "code",
      "source": [
        "import numpy as np\n",
        "from sklearn.metrics import mean_squared_error,r2_score,mean_absolute_error \n",
        "print(mean_squared_error(y_test,yp ))\n",
        "print(mean_absolute_error(y_test,yp ))\n",
        "print(np.sqrt(mean_squared_error(y_test,yp)))"
      ],
      "metadata": {
        "colab": {
          "base_uri": "https://localhost:8080/"
        },
        "id": "g96skhhBTAAC",
        "outputId": "2ca64677-a3e0-4ba2-91eb-47e6b70c62fd"
      },
      "execution_count": null,
      "outputs": [
        {
          "output_type": "stream",
          "name": "stdout",
          "text": [
            "14.001903883520704\n",
            "1.8208645560788417\n",
            "3.741911795261976\n"
          ]
        }
      ]
    }
  ]
}