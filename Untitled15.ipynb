{
  "nbformat": 4,
  "nbformat_minor": 0,
  "metadata": {
    "colab": {
      "provenance": [],
      "authorship_tag": "ABX9TyM004skAzCXAG8k4FzFh983",
      "include_colab_link": true
    },
    "kernelspec": {
      "name": "python3",
      "display_name": "Python 3"
    },
    "language_info": {
      "name": "python"
    }
  },
  "cells": [
    {
      "cell_type": "markdown",
      "metadata": {
        "id": "view-in-github",
        "colab_type": "text"
      },
      "source": [
        "<a href=\"https://colab.research.google.com/github/sreetejadaggu/assignment/blob/main/Untitled15.ipynb\" target=\"_parent\"><img src=\"https://colab.research.google.com/assets/colab-badge.svg\" alt=\"Open In Colab\"/></a>"
      ]
    },
    {
      "cell_type": "code",
      "execution_count": null,
      "metadata": {
        "colab": {
          "base_uri": "https://localhost:8080/"
        },
        "id": "zCb5oqgWydNo",
        "outputId": "eb6ca634-0d72-4535-8931-a7dc5d45905b"
      },
      "outputs": [
        {
          "output_type": "stream",
          "name": "stdout",
          "text": [
            "Drive already mounted at /content/drive; to attempt to forcibly remount, call drive.mount(\"/content/drive\", force_remount=True).\n",
            "        order_id  rider_id  first_mile_distance  last_mile_distance  \\\n",
            "0          False     False                False               False   \n",
            "1          False     False                False               False   \n",
            "2          False     False                False               False   \n",
            "3          False     False                False               False   \n",
            "4          False     False                False               False   \n",
            "...          ...       ...                  ...                 ...   \n",
            "449995     False     False                False               False   \n",
            "449996     False     False                False               False   \n",
            "449997     False     False                False               False   \n",
            "449998     False     False                False               False   \n",
            "449999     False     False                False               False   \n",
            "\n",
            "        alloted_orders  delivered_orders  cancelled  undelivered_orders  \\\n",
            "0                False             False      False               False   \n",
            "1                False             False      False               False   \n",
            "2                False             False      False               False   \n",
            "3                False             False      False               False   \n",
            "4                False             False      False               False   \n",
            "...                ...               ...        ...                 ...   \n",
            "449995           False             False      False               False   \n",
            "449996           False             False      False               False   \n",
            "449997           False             False      False               False   \n",
            "449998           False             False      False               False   \n",
            "449999           False             False      False               False   \n",
            "\n",
            "        lifetime_order_count  0_method  reassigned_order  session_time  \n",
            "0                      False      True              True          True  \n",
            "1                      False      True              True         False  \n",
            "2                      False      True              True         False  \n",
            "3                      False      True              True         False  \n",
            "4                      False      True              True         False  \n",
            "...                      ...       ...               ...           ...  \n",
            "449995                 False      True              True         False  \n",
            "449996                 False      True              True         False  \n",
            "449997                 False      True              True         False  \n",
            "449998                 False      True              True         False  \n",
            "449999                 False      True              True         False  \n",
            "\n",
            "[450000 rows x 12 columns]\n",
            "<class 'pandas.core.frame.DataFrame'>\n",
            "RangeIndex: 450000 entries, 0 to 449999\n",
            "Data columns (total 12 columns):\n",
            " #   Column                Non-Null Count   Dtype  \n",
            "---  ------                --------------   -----  \n",
            " 0   order_id              450000 non-null  int64  \n",
            " 1   rider_id              450000 non-null  int64  \n",
            " 2   first_mile_distance   450000 non-null  float64\n",
            " 3   last_mile_distance    450000 non-null  float64\n",
            " 4   alloted_orders        450000 non-null  float64\n",
            " 5   delivered_orders      450000 non-null  float64\n",
            " 6   cancelled             450000 non-null  int64  \n",
            " 7   undelivered_orders    450000 non-null  float64\n",
            " 8   lifetime_order_count  450000 non-null  float64\n",
            " 9   0_method              450000 non-null  object \n",
            " 10  reassigned_order      450000 non-null  float64\n",
            " 11  session_time          450000 non-null  float64\n",
            "dtypes: float64(8), int64(3), object(1)\n",
            "memory usage: 41.2+ MB\n"
          ]
        },
        {
          "output_type": "execute_result",
          "data": {
            "text/plain": [
              "order_id\n",
              "181402      2\n",
              "118350      1\n",
              "444854      1\n",
              "444852      1\n",
              "444851      1\n",
              "           ..\n",
              "294840      1\n",
              "294839      1\n",
              "294838      1\n",
              "294837      1\n",
              "594842      1\n",
              "Length: 449999, dtype: int64"
            ]
          },
          "metadata": {},
          "execution_count": 15
        }
      ],
      "source": [
        "import pandas as pd\n",
        "import numpy as np\n",
        "from google.colab import drive\n",
        "drive.mount('/content/drive')\n",
        "df=pd.read_csv(r'/content/riderdata.csv')\n",
        "print(df.isnull())\n",
        "df=df.fillna(0)\n",
        "df.head()\n",
        "df.info()\n",
        "df.describe()\n",
        "df[['order_id']].value_counts()"
      ]
    },
    {
      "cell_type": "code",
      "source": [
        "df[['rider_id']].value_counts()\n"
      ],
      "metadata": {
        "colab": {
          "base_uri": "https://localhost:8080/"
        },
        "id": "q6nTUeQC78yG",
        "outputId": "71c972a8-7959-43bf-f05a-b99ec6d23464"
      },
      "execution_count": null,
      "outputs": [
        {
          "output_type": "execute_result",
          "data": {
            "text/plain": [
              "rider_id\n",
              "237         228\n",
              "190         213\n",
              "11998       209\n",
              "170         203\n",
              "853         200\n",
              "           ... \n",
              "20009         1\n",
              "15770         1\n",
              "15777         1\n",
              "15779         1\n",
              "21566         1\n",
              "Length: 19537, dtype: int64"
            ]
          },
          "metadata": {},
          "execution_count": 16
        }
      ]
    },
    {
      "cell_type": "code",
      "source": [
        "\n",
        "df[['first_mile_distance']].value_counts()\n"
      ],
      "metadata": {
        "colab": {
          "base_uri": "https://localhost:8080/"
        },
        "id": "hcDXHiAP8AL7",
        "outputId": "f51023ef-5c43-4a2a-860f-dfb5f547a41a"
      },
      "execution_count": null,
      "outputs": [
        {
          "output_type": "execute_result",
          "data": {
            "text/plain": [
              "first_mile_distance\n",
              "0.740400               39\n",
              "0.715300               39\n",
              "0.695900               36\n",
              "0.696500               36\n",
              "1.000900               34\n",
              "                       ..\n",
              "0.093546                1\n",
              "0.093544                1\n",
              "0.093542                1\n",
              "0.093529                1\n",
              "42.038100               1\n",
              "Length: 93743, dtype: int64"
            ]
          },
          "metadata": {},
          "execution_count": 17
        }
      ]
    },
    {
      "cell_type": "code",
      "source": [
        "\n",
        "df[['last_mile_distance']].value_counts()"
      ],
      "metadata": {
        "colab": {
          "base_uri": "https://localhost:8080/"
        },
        "id": "cNRuOxro8FmZ",
        "outputId": "83c14ac2-706a-497e-86bc-d35c7ab707c0"
      },
      "execution_count": null,
      "outputs": [
        {
          "output_type": "execute_result",
          "data": {
            "text/plain": [
              "last_mile_distance\n",
              "1.58                  1143\n",
              "1.50                  1121\n",
              "1.97                  1119\n",
              "1.45                  1111\n",
              "1.63                  1110\n",
              "                      ... \n",
              "12.33                    1\n",
              "12.31                    1\n",
              "12.29                    1\n",
              "12.25                    1\n",
              "22.41                    1\n",
              "Length: 1331, dtype: int64"
            ]
          },
          "metadata": {},
          "execution_count": 18
        }
      ]
    },
    {
      "cell_type": "code",
      "source": [
        "\n",
        "df[['alloted_orders']].value_counts()"
      ],
      "metadata": {
        "colab": {
          "base_uri": "https://localhost:8080/"
        },
        "id": "zOvTfPdP8NXR",
        "outputId": "e8b98a29-3c42-4a15-c375-5cc0b95d4c2d"
      },
      "execution_count": null,
      "outputs": [
        {
          "output_type": "execute_result",
          "data": {
            "text/plain": [
              "alloted_orders\n",
              "0.0               16948\n",
              "6.0                3764\n",
              "5.0                3717\n",
              "4.0                3648\n",
              "2.0                3589\n",
              "                  ...  \n",
              "414.0                 9\n",
              "524.0                 8\n",
              "471.0                 8\n",
              "492.0                 8\n",
              "501.0                 7\n",
              "Length: 511, dtype: int64"
            ]
          },
          "metadata": {},
          "execution_count": 19
        }
      ]
    },
    {
      "cell_type": "code",
      "source": [
        "\n",
        "df[['delivered_orders']].value_counts()"
      ],
      "metadata": {
        "colab": {
          "base_uri": "https://localhost:8080/"
        },
        "id": "d1vNEsle8eGE",
        "outputId": "4f7c9443-178a-4c5a-a0bd-d7d972542a5c"
      },
      "execution_count": null,
      "outputs": [
        {
          "output_type": "execute_result",
          "data": {
            "text/plain": [
              "delivered_orders\n",
              "0.0                 17341\n",
              "6.0                  3798\n",
              "4.0                  3698\n",
              "5.0                  3697\n",
              "7.0                  3645\n",
              "                    ...  \n",
              "562.0                  12\n",
              "420.0                  10\n",
              "553.0                   9\n",
              "522.0                   8\n",
              "482.0                   5\n",
              "Length: 505, dtype: int64"
            ]
          },
          "metadata": {},
          "execution_count": 20
        }
      ]
    },
    {
      "cell_type": "code",
      "source": [
        "\n",
        "df[['cancelled']].value_counts()"
      ],
      "metadata": {
        "colab": {
          "base_uri": "https://localhost:8080/"
        },
        "id": "oZhoGOxT8-FK",
        "outputId": "53a92548-8f91-4253-dad2-5ce50952b893"
      },
      "execution_count": null,
      "outputs": [
        {
          "output_type": "execute_result",
          "data": {
            "text/plain": [
              "cancelled\n",
              "0            444782\n",
              "1              5218\n",
              "dtype: int64"
            ]
          },
          "metadata": {},
          "execution_count": 21
        }
      ]
    },
    {
      "cell_type": "code",
      "source": [
        "\n",
        "df[['undelivered_orders']].value_counts()"
      ],
      "metadata": {
        "colab": {
          "base_uri": "https://localhost:8080/"
        },
        "id": "4qEPH5_Z9E0s",
        "outputId": "7d343866-9ba1-496e-9f19-a18a4fa4a5c2"
      },
      "execution_count": null,
      "outputs": [
        {
          "output_type": "execute_result",
          "data": {
            "text/plain": [
              "undelivered_orders\n",
              "0.0                   250027\n",
              "1.0                   118103\n",
              "2.0                    50582\n",
              "3.0                    20011\n",
              "4.0                     7733\n",
              "5.0                     1851\n",
              "6.0                      932\n",
              "7.0                      600\n",
              "8.0                      105\n",
              "9.0                       56\n",
              "dtype: int64"
            ]
          },
          "metadata": {},
          "execution_count": 22
        }
      ]
    },
    {
      "cell_type": "code",
      "source": [
        "\n",
        "df[['lifetime_order_count']].value_counts()"
      ],
      "metadata": {
        "colab": {
          "base_uri": "https://localhost:8080/"
        },
        "id": "8eSA_kSz9RqQ",
        "outputId": "b94b50ee-80c2-4b9e-fd13-58d19e1de653"
      },
      "execution_count": null,
      "outputs": [
        {
          "output_type": "execute_result",
          "data": {
            "text/plain": [
              "lifetime_order_count\n",
              "50.0                    1609\n",
              "51.0                    1230\n",
              "290.0                   1201\n",
              "130.0                   1170\n",
              "166.0                   1162\n",
              "                        ... \n",
              "3429.0                     1\n",
              "3412.0                     1\n",
              "2953.0                     1\n",
              "6113.0                     1\n",
              "2629.0                     1\n",
              "Length: 2887, dtype: int64"
            ]
          },
          "metadata": {},
          "execution_count": 23
        }
      ]
    },
    {
      "cell_type": "code",
      "source": [
        "\n",
        "df[['reassigned_order']].value_counts()"
      ],
      "metadata": {
        "colab": {
          "base_uri": "https://localhost:8080/"
        },
        "id": "JfKChv969e_2",
        "outputId": "79f45805-0c32-480b-f5d2-831f4de875cc"
      },
      "execution_count": null,
      "outputs": [
        {
          "output_type": "execute_result",
          "data": {
            "text/plain": [
              "reassigned_order\n",
              "0.0                 436247\n",
              "1.0                  13753\n",
              "dtype: int64"
            ]
          },
          "metadata": {},
          "execution_count": 25
        }
      ]
    },
    {
      "cell_type": "code",
      "source": [
        "\n",
        "df[['session_time']].value_counts()"
      ],
      "metadata": {
        "colab": {
          "base_uri": "https://localhost:8080/"
        },
        "id": "wm9jKKLj9unJ",
        "outputId": "fb817041-85bf-4bf6-d02a-49bed10b78d3"
      },
      "execution_count": null,
      "outputs": [
        {
          "output_type": "execute_result",
          "data": {
            "text/plain": [
              "session_time\n",
              "0.000000        3691\n",
              "0.066667         155\n",
              "0.033333         144\n",
              "0.116667         136\n",
              "0.150000         132\n",
              "                ... \n",
              "683.983333         1\n",
              "683.966667         1\n",
              "683.933333         1\n",
              "683.900000         1\n",
              "1298.966667        1\n",
              "Length: 44712, dtype: int64"
            ]
          },
          "metadata": {},
          "execution_count": 26
        }
      ]
    },
    {
      "cell_type": "code",
      "source": [
        "df.columns"
      ],
      "metadata": {
        "id": "AWoQbchR-L6G"
      },
      "execution_count": null,
      "outputs": []
    },
    {
      "cell_type": "code",
      "source": [
        "df.shape\n"
      ],
      "metadata": {
        "colab": {
          "base_uri": "https://localhost:8080/"
        },
        "id": "GS1dooJi-OJS",
        "outputId": "2ac01e6e-1bcc-446a-ebf8-c5b2cc8da103"
      },
      "execution_count": null,
      "outputs": [
        {
          "output_type": "execute_result",
          "data": {
            "text/plain": [
              "(450000, 12)"
            ]
          },
          "metadata": {},
          "execution_count": 28
        }
      ]
    },
    {
      "cell_type": "code",
      "source": [
        "Y=df['session_time']\n"
      ],
      "metadata": {
        "id": "oU3KfiwdB3Sq"
      },
      "execution_count": null,
      "outputs": []
    },
    {
      "cell_type": "code",
      "source": [
        "Y"
      ],
      "metadata": {
        "colab": {
          "base_uri": "https://localhost:8080/"
        },
        "id": "x2V9HPAxCRxL",
        "outputId": "2407690a-8132-4ebe-936c-d482c3012bb2"
      },
      "execution_count": null,
      "outputs": [
        {
          "output_type": "execute_result",
          "data": {
            "text/plain": [
              "0           0.000000\n",
              "1           3.266667\n",
              "2           9.816667\n",
              "3          17.533333\n",
              "4           1.350000\n",
              "             ...    \n",
              "449995    369.516667\n",
              "449996    239.133333\n",
              "449997    204.150000\n",
              "449998     65.583333\n",
              "449999    212.000000\n",
              "Name: session_time, Length: 450000, dtype: float64"
            ]
          },
          "metadata": {},
          "execution_count": 44
        }
      ]
    },
    {
      "cell_type": "code",
      "source": [
        "X=df[['order_id','rider_id','first_mile_distance','last_mile_distance','alloted_orders', 'delivered_orders', 'cancelled', 'undelivered_orders',\n",
        "       'lifetime_order_count', 'reassigned_order']]"
      ],
      "metadata": {
        "id": "qf_T8mcLArUl"
      },
      "execution_count": null,
      "outputs": []
    },
    {
      "cell_type": "code",
      "source": [
        "from sklearn.model_selection import train_test_split"
      ],
      "metadata": {
        "id": "iMnXL7ez-eSF"
      },
      "execution_count": null,
      "outputs": []
    },
    {
      "cell_type": "code",
      "source": [
        "X_train,X_test,Y_train,Y_test=train_test_split(X,Y,test_size=0.3,random_state=2000)"
      ],
      "metadata": {
        "id": "TBl7mmQYAkRt"
      },
      "execution_count": null,
      "outputs": []
    },
    {
      "cell_type": "code",
      "source": [
        "X_train.shape,X_test.shape,Y_train.shape,Y_test.shape"
      ],
      "metadata": {
        "colab": {
          "base_uri": "https://localhost:8080/"
        },
        "id": "MJoLucJVClQm",
        "outputId": "75923fe9-16a3-49d6-a19c-f1c68ecf1919"
      },
      "execution_count": null,
      "outputs": [
        {
          "output_type": "execute_result",
          "data": {
            "text/plain": [
              "((315000, 10), (135000, 10), (315000,), (135000,))"
            ]
          },
          "metadata": {},
          "execution_count": 47
        }
      ]
    },
    {
      "cell_type": "code",
      "source": [
        "#reg_all=linear_model.LinearRegression()\n",
        "#reg_all.fit(X_train,y_train)\n",
        "#y_pred=reg_all.predict(X_test)\n",
        "#Rsquare=reg_all.score(X_test,y_test)\n",
        "#print(\"Rsquare: %f\" %(Rsquare))"
      ],
      "metadata": {
        "id": "LOs-9NjjCt59"
      },
      "execution_count": null,
      "outputs": []
    },
    {
      "cell_type": "code",
      "source": [
        "\n",
        ".lr=LinearRegression()\n",
        "lr.fit(X_train,Y_train)"
      ],
      "metadata": {
        "colab": {
          "base_uri": "https://localhost:8080/"
        },
        "id": "-xs6rnKMMYth",
        "outputId": "44fe9cf9-ce69-418f-8f50-5e2531c4303d"
      },
      "execution_count": null,
      "outputs": [
        {
          "output_type": "execute_result",
          "data": {
            "text/plain": [
              "LinearRegression()"
            ]
          },
          "metadata": {},
          "execution_count": 54
        }
      ]
    },
    {
      "cell_type": "code",
      "source": [
        "Y_pred=lr.predict(X_test)"
      ],
      "metadata": {
        "id": "XlDkkG5xMnMy"
      },
      "execution_count": null,
      "outputs": []
    },
    {
      "cell_type": "code",
      "source": [
        "Y_pred.shape\n",
        "Y_pred"
      ],
      "metadata": {
        "colab": {
          "base_uri": "https://localhost:8080/"
        },
        "id": "bVDa0aAlMuAg",
        "outputId": "8bc913e2-b68e-4520-cbdc-eef31ae65c42"
      },
      "execution_count": null,
      "outputs": [
        {
          "output_type": "execute_result",
          "data": {
            "text/plain": [
              "array([198.4602859 , 196.45344913, 233.19899449, ..., 214.43173232,\n",
              "       249.35024471, 171.30419178])"
            ]
          },
          "metadata": {},
          "execution_count": 65
        }
      ]
    },
    {
      "cell_type": "code",
      "source": [
        "import matplotlib.pyplot as plt\n",
        "plt.scatter(Y_test,Y_pred)\n",
        "plt.xlabel(\"Actual Trades:-\")\n",
        "plt.ylabel(\"Predicted Trades:-\")\n",
        "plt.title(\"Actual Trades vs Predicted Trades\")\n",
        "plt.show"
      ],
      "metadata": {
        "colab": {
          "base_uri": "https://localhost:8080/",
          "height": 312
        },
        "id": "1yDUH0jqMwMq",
        "outputId": "85d49248-2990-4bba-8862-91dd97e4dbea"
      },
      "execution_count": null,
      "outputs": [
        {
          "output_type": "execute_result",
          "data": {
            "text/plain": [
              "<function matplotlib.pyplot.show(*args, **kw)>"
            ]
          },
          "metadata": {},
          "execution_count": 70
        },
        {
          "output_type": "display_data",
          "data": {
            "text/plain": [
              "<Figure size 432x288 with 1 Axes>"
            ],
            "image/png": "[encoded data removed]"
          },
          "metadata": {
            "needs_background": "light"
          }
        }
      ]
    },
    {
      "cell_type": "code",
      "source": [
        "# LASSO REGRESSION\n",
        "import numpy as np\n",
        "from sklearn.metrics import mean_squared_error,r2_score \n",
        "from sklearn.linear_model import Lasso\n",
        "model_lasso= Lasso(alpha=0.01)\n",
        "model_lasso.fit(X_train,Y_train)\n",
        "pred_train_lasso= model_lasso.predict(X_test)\n",
        "\n",
        "print(mean_squared_error(Y_test,pred_train_lasso))"
      ],
      "metadata": {
        "colab": {
          "base_uri": "https://localhost:8080/"
        },
        "id": "CmpgdLRvPhs3",
        "outputId": "ac71c395-e1ac-4ef4-aabc-76c10f4d70d4"
      },
      "execution_count": null,
      "outputs": [
        {
          "output_type": "stream",
          "name": "stdout",
          "text": [
            "29300.923298402406\n"
          ]
        },
        {
          "output_type": "stream",
          "name": "stderr",
          "text": [
            "/usr/local/lib/python3.8/dist-packages/sklearn/linear_model/_coordinate_descent.py:647: ConvergenceWarning: Objective did not converge. You might want to increase the number of iterations, check the scale of the features or consider increasing regularisation. Duality gap: 1.689e+09, tolerance: 9.856e+05\n",
            "  model = cd_fast.enet_coordinate_descent(\n"
          ]
        }
      ]
    },
    {
      "cell_type": "code",
      "source": [
        "# RIDGE REGRESSION\n",
        "from sklearn.linear_model import Ridge \n",
        "rr= Ridge(alpha=0.01)\n",
        "rr.fit(X_train, Y_train) \n",
        "pred_train_rr= rr.predict(X_train)\n",
        "print(np.sqrt(mean_squared_error(Y_train,pred_train_rr)))\n",
        "print(r2_score(Y_train, pred_train_rr))"
      ],
      "metadata": {
        "colab": {
          "base_uri": "https://localhost:8080/"
        },
        "id": "h19e9Of-dzgg",
        "outputId": "030a7930-6818-429f-b010-4c330c6b6454"
      },
      "execution_count": null,
      "outputs": [
        {
          "output_type": "stream",
          "name": "stdout",
          "text": [
            "170.64925135095453\n",
            "0.06929685741025948\n"
          ]
        }
      ]
    },
    {
      "cell_type": "code",
      "source": [
        "# LINEAR REGRESSION\n",
        "from sklearn.linear_model import LinearRegression\n",
        "model = LinearRegression()\n",
        "model.fit(X, Y)\n",
        "model = LinearRegression().fit(X, Y)\n",
        "r_sq = model.score(X, Y)\n",
        "print(f\"coefficient of determination: {r_sq}\")\n",
        "\n",
        "print(f\"intercept: {model.intercept_}\")\n",
        "\n",
        "print(f\"coefficients: {model.coef_}\")"
      ],
      "metadata": {
        "colab": {
          "base_uri": "https://localhost:8080/"
        },
        "id": "by-NKnA7eIff",
        "outputId": "82088dc6-0787-4d27-b863-bb7c8f2f12a0"
      },
      "execution_count": null,
      "outputs": [
        {
          "output_type": "stream",
          "name": "stdout",
          "text": [
            "coefficient of determination: 0.06987909364424372\n",
            "intercept: 175.41399396598325\n",
            "coefficients: [ 1.20766464e-04 -4.33666429e-03  1.66888701e+00 -1.56505009e+00\n",
            " -1.60517258e+01  1.62676906e+01 -1.18278008e+01  1.85535375e+01\n",
            "  1.36358383e-02  1.20549144e+00]\n"
          ]
        }
      ]
    },
    {
      "cell_type": "code",
      "source": [
        "from sklearn import linear_model\n",
        "from sklearn.metrics import mean_squared_error,mean_absolute_error\n",
        "reg_all=linear_model.LinearRegression()\n",
        "reg_all.fit(X_train,Y_train)\n",
        "Y_pred=reg_all.predict(X_test)\n",
        "Rsquare=reg_all.score(X_test,Y_test)\n",
        "print(\"Rsquare: %f\" %(Rsquare))\n",
        "print(\"Intercept: %f\" %(reg_all.intercept_))\n",
        "mse=mean_squared_error(Y_test,Y_pred)\n",
        "print(\"mse: %f\" %(mse))\n",
        "mae = mean_absolute_error(Y_test,Y_pred)\n",
        "print(\"mae: %f\" %(mae))\n",
        "rmse=np.sqrt(mean_squared_error(Y_test,Y_pred))\n",
        "print(\"rmse: %f\" %(rmse))"
      ],
      "metadata": {
        "colab": {
          "base_uri": "https://localhost:8080/"
        },
        "id": "aTg-NXxTeSCR",
        "outputId": "30e84aa2-a707-4597-e84d-0208989c5b59"
      },
      "execution_count": null,
      "outputs": [
        {
          "output_type": "stream",
          "name": "stdout",
          "text": [
            "Rsquare: 0.071184\n",
            "Intercept: 175.958946\n",
            "mse: 29300.093213\n",
            "mae: 135.873481\n",
            "rmse: 171.172700\n"
          ]
        }
      ]
    }
  ]
}